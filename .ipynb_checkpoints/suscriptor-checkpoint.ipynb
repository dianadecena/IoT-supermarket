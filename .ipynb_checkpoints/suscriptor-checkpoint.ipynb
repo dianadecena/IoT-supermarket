{
 "cells": [
  {
   "cell_type": "markdown",
   "metadata": {},
   "source": [
    "# suscriptor"
   ]
  },
  {
   "cell_type": "code",
   "execution_count": 7,
   "metadata": {},
   "outputs": [],
   "source": [
    "import ssl\n",
    "import sys\n",
    "import psycopg2\n",
    "import paho.mqtt.client\n",
    "import json\n",
    "from sqlalchemy import create_engine\n",
    "import pandas as pd\n",
    "import sub "
   ]
  },
  {
   "cell_type": "markdown",
   "metadata": {},
   "source": [
    "# conexión con la base de datos"
   ]
  },
  {
   "cell_type": "code",
   "execution_count": 8,
   "metadata": {},
   "outputs": [],
   "source": [
    "host='echo.db.elephantsql.com'\n",
    "user ='fvrwybpi'\n",
    "password='Vm7b24osfoJddQLWdc6VotSmYBpOn0UT'\n",
    "dbname='fvrwybpi'"
   ]
  },
  {
   "cell_type": "code",
   "execution_count": 9,
   "metadata": {},
   "outputs": [],
   "source": [
    "connection = psycopg2.connect(host = host,\n",
    "                                user= user, password =password,\n",
    "                                dbname= dbname)"
   ]
  },
  {
   "cell_type": "markdown",
   "metadata": {},
   "source": [
    "# creación de tablas"
   ]
  },
  {
   "cell_type": "code",
   "execution_count": 10,
   "metadata": {},
   "outputs": [
    {
     "name": "stdout",
     "output_type": "stream",
     "text": [
      "Wall time: 3.5 s\n"
     ]
    }
   ],
   "source": [
    "%%time\n",
    "query_file = open(\"Data/Tablas.sql\",'r') \n",
    "query = query_file.read()\n",
    "cur = connection.cursor()\n",
    "cur.execute(query)\n",
    "cur.close()\n",
    "connection.commit()"
   ]
  },
  {
   "cell_type": "markdown",
   "metadata": {},
   "source": [
    "# borrar data"
   ]
  },
  {
   "cell_type": "code",
   "execution_count": 11,
   "metadata": {},
   "outputs": [
    {
     "name": "stdout",
     "output_type": "stream",
     "text": [
      "Wall time: 939 ms\n"
     ]
    }
   ],
   "source": [
    "%%time\n",
    "query_file = open(\"Data/Delete-Data.sql\",'r') \n",
    "query = query_file.read()\n",
    "cur = connection.cursor()\n",
    "cur.execute(query)\n",
    "cur.close()\n",
    "connection.commit()"
   ]
  },
  {
   "cell_type": "markdown",
   "metadata": {},
   "source": [
    "# agregar data de los clientes"
   ]
  },
  {
   "cell_type": "code",
   "execution_count": 12,
   "metadata": {},
   "outputs": [],
   "source": [
    "query_file = open(\"Data/Data.sql\",'r', encoding='utf-8') \n",
    "query = query_file.read()\n",
    "cur = connection.cursor()\n",
    "cur.execute(query)\n",
    "cur.close()\n",
    "connection.commit()"
   ]
  },
  {
   "cell_type": "markdown",
   "metadata": {},
   "source": [
    "# pretty select"
   ]
  },
  {
   "cell_type": "code",
   "execution_count": 4,
   "metadata": {},
   "outputs": [],
   "source": [
    "def pretty_select(query):\n",
    "    db_connection = 'postgres://{}:{}@{}:5432/{}'.format(user, password, host, dbname)\n",
    "    try:\n",
    "        engine = create_engine(db_connection)\n",
    "        dataframe = pd.read_sql_query(query, engine)\n",
    "    except Exception as e:\n",
    "        print('Error en el query:', e)\n",
    "    else:\n",
    "        engine.dispose()\n",
    "        return dataframe"
   ]
  },
  {
   "cell_type": "markdown",
   "metadata": {},
   "source": [
    "# queries"
   ]
  },
  {
   "cell_type": "markdown",
   "metadata": {},
   "source": [
    "## 1."
   ]
  },
  {
   "cell_type": "markdown",
   "metadata": {},
   "source": [
    "Cuales son los clientes conocidos y desconocidos que mas han comprado en cada una de las tiendas.\n",
    "Este query trae los clientes que mas han comprado por sucursal y que estan dentro del programa de fidelidad y cuenta cada vez que compran por sucursal, se agrupan por sucusal se ordenan por cantidad de veces que compran. Luego del union vienen los clientes que no estan en el plan de fidelidad."
   ]
  },
  {
   "cell_type": "code",
   "execution_count": 5,
   "metadata": {},
   "outputs": [
    {
     "data": {
      "text/html": [
       "<div>\n",
       "<style scoped>\n",
       "    .dataframe tbody tr th:only-of-type {\n",
       "        vertical-align: middle;\n",
       "    }\n",
       "\n",
       "    .dataframe tbody tr th {\n",
       "        vertical-align: top;\n",
       "    }\n",
       "\n",
       "    .dataframe thead th {\n",
       "        text-align: right;\n",
       "    }\n",
       "</style>\n",
       "<table border=\"1\" class=\"dataframe\">\n",
       "  <thead>\n",
       "    <tr style=\"text-align: right;\">\n",
       "      <th></th>\n",
       "      <th>count</th>\n",
       "      <th>id_cliente</th>\n",
       "      <th>nombre</th>\n",
       "      <th>ubicacion</th>\n",
       "    </tr>\n",
       "  </thead>\n",
       "  <tbody>\n",
       "  </tbody>\n",
       "</table>\n",
       "</div>"
      ],
      "text/plain": [
       "Empty DataFrame\n",
       "Columns: [count, id_cliente, nombre, ubicacion]\n",
       "Index: []"
      ]
     },
     "execution_count": 5,
     "metadata": {},
     "output_type": "execute_result"
    }
   ],
   "source": [
    "query = \"\"\" \n",
    "select count(cliente.id_cliente), cliente.id_cliente, cliente.nombre, sucursal.ubicacion from cliente \n",
    "join factura on cliente.id_cliente = factura.id_cliente join sucursal on factura.id_sucursal = sucursal.id_sucursal \n",
    "where cliente.id_cliente in (select distinct id_cliente from cuenta_programa_fidelidad) group by 2,3,4 order by 1 ASC limit 3\"\"\"\n",
    "pretty_select(query)"
   ]
  },
  {
   "cell_type": "code",
   "execution_count": 6,
   "metadata": {},
   "outputs": [
    {
     "data": {
      "text/html": [
       "<div>\n",
       "<style scoped>\n",
       "    .dataframe tbody tr th:only-of-type {\n",
       "        vertical-align: middle;\n",
       "    }\n",
       "\n",
       "    .dataframe tbody tr th {\n",
       "        vertical-align: top;\n",
       "    }\n",
       "\n",
       "    .dataframe thead th {\n",
       "        text-align: right;\n",
       "    }\n",
       "</style>\n",
       "<table border=\"1\" class=\"dataframe\">\n",
       "  <thead>\n",
       "    <tr style=\"text-align: right;\">\n",
       "      <th></th>\n",
       "      <th>count</th>\n",
       "      <th>id_cliente</th>\n",
       "      <th>nombre</th>\n",
       "      <th>ubicacion</th>\n",
       "    </tr>\n",
       "  </thead>\n",
       "  <tbody>\n",
       "    <tr>\n",
       "      <th>0</th>\n",
       "      <td>1</td>\n",
       "      <td>26</td>\n",
       "      <td>Chariot</td>\n",
       "      <td>Los Palos Grandes</td>\n",
       "    </tr>\n",
       "  </tbody>\n",
       "</table>\n",
       "</div>"
      ],
      "text/plain": [
       "   count  id_cliente   nombre          ubicacion\n",
       "0      1          26  Chariot  Los Palos Grandes"
      ]
     },
     "execution_count": 6,
     "metadata": {},
     "output_type": "execute_result"
    }
   ],
   "source": [
    "query = \"\"\"\n",
    "select count(cliente.id_cliente), cliente.id_cliente, cliente.nombre, sucursal.ubicacion from cliente \n",
    "join factura on cliente.id_cliente = factura.id_cliente join sucursal on factura.id_sucursal = sucursal.id_sucursal \n",
    "where cliente.id_cliente not in (select distinct id_cliente from cuenta_programa_fidelidad) group by 2,3,4 order by 1 ASC limit 3\"\"\"\n",
    "pretty_select(query)"
   ]
  },
  {
   "cell_type": "markdown",
   "metadata": {},
   "source": [
    "## 2."
   ]
  },
  {
   "cell_type": "markdown",
   "metadata": {},
   "source": [
    "Diga cual es la categoría de producto que menos se ha vendido en cada una de las tiendas.\n",
    "Este query cuenta la cantidad de veces que un id_producto sale en un detalle factura, es agrupado por categoria, ordenado de menor a mayor y tiene un limite de 1. Para obtener la categoria que menos sale."
   ]
  },
  {
   "cell_type": "code",
   "execution_count": 7,
   "metadata": {},
   "outputs": [
    {
     "data": {
      "text/html": [
       "<div>\n",
       "<style scoped>\n",
       "    .dataframe tbody tr th:only-of-type {\n",
       "        vertical-align: middle;\n",
       "    }\n",
       "\n",
       "    .dataframe tbody tr th {\n",
       "        vertical-align: top;\n",
       "    }\n",
       "\n",
       "    .dataframe thead th {\n",
       "        text-align: right;\n",
       "    }\n",
       "</style>\n",
       "<table border=\"1\" class=\"dataframe\">\n",
       "  <thead>\n",
       "    <tr style=\"text-align: right;\">\n",
       "      <th></th>\n",
       "      <th>count</th>\n",
       "      <th>categoria</th>\n",
       "      <th>id_sucursal</th>\n",
       "    </tr>\n",
       "  </thead>\n",
       "  <tbody>\n",
       "  </tbody>\n",
       "</table>\n",
       "</div>"
      ],
      "text/plain": [
       "Empty DataFrame\n",
       "Columns: [count, categoria, id_sucursal]\n",
       "Index: []"
      ]
     },
     "execution_count": 7,
     "metadata": {},
     "output_type": "execute_result"
    }
   ],
   "source": [
    "query = \"\"\"\n",
    "select count(producto.categoria), producto.categoria, factura.id_sucursal from producto \n",
    "join detalle_factura on producto.id_producto = detalle_factura.id_producto join factura \n",
    "on detalle_factura.id_factura = factura.id_factura where factura.id_sucursal = 1 group by 2,3 order by 1 ASC limit 1\n",
    "\"\"\"\n",
    "pretty_select(query)"
   ]
  },
  {
   "cell_type": "code",
   "execution_count": 8,
   "metadata": {},
   "outputs": [
    {
     "data": {
      "text/html": [
       "<div>\n",
       "<style scoped>\n",
       "    .dataframe tbody tr th:only-of-type {\n",
       "        vertical-align: middle;\n",
       "    }\n",
       "\n",
       "    .dataframe tbody tr th {\n",
       "        vertical-align: top;\n",
       "    }\n",
       "\n",
       "    .dataframe thead th {\n",
       "        text-align: right;\n",
       "    }\n",
       "</style>\n",
       "<table border=\"1\" class=\"dataframe\">\n",
       "  <thead>\n",
       "    <tr style=\"text-align: right;\">\n",
       "      <th></th>\n",
       "      <th>count</th>\n",
       "      <th>categoria</th>\n",
       "      <th>id_sucursal</th>\n",
       "    </tr>\n",
       "  </thead>\n",
       "  <tbody>\n",
       "    <tr>\n",
       "      <th>0</th>\n",
       "      <td>1</td>\n",
       "      <td>No Perecederos</td>\n",
       "      <td>2</td>\n",
       "    </tr>\n",
       "  </tbody>\n",
       "</table>\n",
       "</div>"
      ],
      "text/plain": [
       "   count       categoria  id_sucursal\n",
       "0      1  No Perecederos            2"
      ]
     },
     "execution_count": 8,
     "metadata": {},
     "output_type": "execute_result"
    }
   ],
   "source": [
    "query = \"\"\"\n",
    "select count(producto.categoria), producto.categoria, factura.id_sucursal from producto \n",
    "join detalle_factura on producto.id_producto = detalle_factura.id_producto join factura \n",
    "on detalle_factura.id_factura = factura.id_factura where factura.id_sucursal = 2 group by 2,3 order by 1 ASC limit 1\n",
    "\"\"\"\n",
    "pretty_select(query)"
   ]
  },
  {
   "cell_type": "markdown",
   "metadata": {},
   "source": [
    "## 3."
   ]
  },
  {
   "cell_type": "markdown",
   "metadata": {},
   "source": [
    "Cuales es el top 5 de productos que mas se han vendido en cada una de las tiendas. Este query trae la cantidad de productos vendidos, el id del producto, el nombre, y la ubicacion. Los agrupa por id,nombre y ubicacion y se ordena de mayor a menor por la cantidad de producto y se limit a 5 del top 5. "
   ]
  },
  {
   "cell_type": "code",
   "execution_count": 9,
   "metadata": {},
   "outputs": [
    {
     "data": {
      "text/html": [
       "<div>\n",
       "<style scoped>\n",
       "    .dataframe tbody tr th:only-of-type {\n",
       "        vertical-align: middle;\n",
       "    }\n",
       "\n",
       "    .dataframe tbody tr th {\n",
       "        vertical-align: top;\n",
       "    }\n",
       "\n",
       "    .dataframe thead th {\n",
       "        text-align: right;\n",
       "    }\n",
       "</style>\n",
       "<table border=\"1\" class=\"dataframe\">\n",
       "  <thead>\n",
       "    <tr style=\"text-align: right;\">\n",
       "      <th></th>\n",
       "      <th>count</th>\n",
       "      <th>id_producto</th>\n",
       "      <th>nombre</th>\n",
       "      <th>id_sucursal</th>\n",
       "    </tr>\n",
       "  </thead>\n",
       "  <tbody>\n",
       "  </tbody>\n",
       "</table>\n",
       "</div>"
      ],
      "text/plain": [
       "Empty DataFrame\n",
       "Columns: [count, id_producto, nombre, id_sucursal]\n",
       "Index: []"
      ]
     },
     "execution_count": 9,
     "metadata": {},
     "output_type": "execute_result"
    }
   ],
   "source": [
    "query = \"\"\"\n",
    "select count(producto.id_producto), producto.id_producto, producto.nombre, factura.id_sucursal from producto \n",
    "join detalle_factura on producto.id_producto = detalle_factura.id_producto join factura \n",
    "on detalle_factura.id_factura = factura.id_factura where factura.id_sucursal = 1 group by 2,3,4 order by 1 DESC limit 5\n",
    "\"\"\"\n",
    "pretty_select(query)"
   ]
  },
  {
   "cell_type": "code",
   "execution_count": 10,
   "metadata": {},
   "outputs": [
    {
     "data": {
      "text/html": [
       "<div>\n",
       "<style scoped>\n",
       "    .dataframe tbody tr th:only-of-type {\n",
       "        vertical-align: middle;\n",
       "    }\n",
       "\n",
       "    .dataframe tbody tr th {\n",
       "        vertical-align: top;\n",
       "    }\n",
       "\n",
       "    .dataframe thead th {\n",
       "        text-align: right;\n",
       "    }\n",
       "</style>\n",
       "<table border=\"1\" class=\"dataframe\">\n",
       "  <thead>\n",
       "    <tr style=\"text-align: right;\">\n",
       "      <th></th>\n",
       "      <th>count</th>\n",
       "      <th>id_producto</th>\n",
       "      <th>nombre</th>\n",
       "      <th>id_sucursal</th>\n",
       "    </tr>\n",
       "  </thead>\n",
       "  <tbody>\n",
       "    <tr>\n",
       "      <th>0</th>\n",
       "      <td>1</td>\n",
       "      <td>30</td>\n",
       "      <td>Sal</td>\n",
       "      <td>2</td>\n",
       "    </tr>\n",
       "  </tbody>\n",
       "</table>\n",
       "</div>"
      ],
      "text/plain": [
       "   count  id_producto nombre  id_sucursal\n",
       "0      1           30    Sal            2"
      ]
     },
     "execution_count": 10,
     "metadata": {},
     "output_type": "execute_result"
    }
   ],
   "source": [
    "query = \"\"\"\n",
    "select count(producto.id_producto), producto.id_producto, producto.nombre, factura.id_sucursal from producto \n",
    "join detalle_factura on producto.id_producto = detalle_factura.id_producto join factura \n",
    "on detalle_factura.id_factura = factura.id_factura where factura.id_sucursal = 2 group by 2,3,4 order by 1 DESC limit 5\n",
    "\"\"\"\n",
    "pretty_select(query)"
   ]
  },
  {
   "cell_type": "markdown",
   "metadata": {},
   "source": [
    "## 4."
   ]
  },
  {
   "cell_type": "markdown",
   "metadata": {},
   "source": [
    "Diga todos los clientes que en los últimos 7 días a partir de la ejecución del query han comprado solo en una tienda y los que han comprado en las dos tiendas (realice queries distintos)."
   ]
  },
  {
   "cell_type": "code",
   "execution_count": 14,
   "metadata": {},
   "outputs": [
    {
     "data": {
      "text/html": [
       "<div>\n",
       "<style scoped>\n",
       "    .dataframe tbody tr th:only-of-type {\n",
       "        vertical-align: middle;\n",
       "    }\n",
       "\n",
       "    .dataframe tbody tr th {\n",
       "        vertical-align: top;\n",
       "    }\n",
       "\n",
       "    .dataframe thead th {\n",
       "        text-align: right;\n",
       "    }\n",
       "</style>\n",
       "<table border=\"1\" class=\"dataframe\">\n",
       "  <thead>\n",
       "    <tr style=\"text-align: right;\">\n",
       "      <th></th>\n",
       "      <th>id_cliente</th>\n",
       "      <th>nombre</th>\n",
       "      <th>apellido</th>\n",
       "    </tr>\n",
       "  </thead>\n",
       "  <tbody>\n",
       "    <tr>\n",
       "      <th>0</th>\n",
       "      <td>26</td>\n",
       "      <td>Chariot</td>\n",
       "      <td>Karpinski</td>\n",
       "    </tr>\n",
       "  </tbody>\n",
       "</table>\n",
       "</div>"
      ],
      "text/plain": [
       "   id_cliente   nombre   apellido\n",
       "0          26  Chariot  Karpinski"
      ]
     },
     "execution_count": 14,
     "metadata": {},
     "output_type": "execute_result"
    }
   ],
   "source": [
    "query =\"\"\"\n",
    "select cliente.id_cliente, cliente.nombre, cliente.apellido from cliente \n",
    "where exists (select distinct id_cliente from factura where factura.id_cliente = cliente.id_cliente and \n",
    "factura.fecha_hora > current_date - interval '7 days' group by 1 having count(distinct id_sucursal) = 1)\n",
    "\"\"\"\n",
    "pretty_select(query)"
   ]
  },
  {
   "cell_type": "code",
   "execution_count": 15,
   "metadata": {},
   "outputs": [
    {
     "data": {
      "text/html": [
       "<div>\n",
       "<style scoped>\n",
       "    .dataframe tbody tr th:only-of-type {\n",
       "        vertical-align: middle;\n",
       "    }\n",
       "\n",
       "    .dataframe tbody tr th {\n",
       "        vertical-align: top;\n",
       "    }\n",
       "\n",
       "    .dataframe thead th {\n",
       "        text-align: right;\n",
       "    }\n",
       "</style>\n",
       "<table border=\"1\" class=\"dataframe\">\n",
       "  <thead>\n",
       "    <tr style=\"text-align: right;\">\n",
       "      <th></th>\n",
       "      <th>id_cliente</th>\n",
       "      <th>nombre</th>\n",
       "      <th>apellido</th>\n",
       "    </tr>\n",
       "  </thead>\n",
       "  <tbody>\n",
       "  </tbody>\n",
       "</table>\n",
       "</div>"
      ],
      "text/plain": [
       "Empty DataFrame\n",
       "Columns: [id_cliente, nombre, apellido]\n",
       "Index: []"
      ]
     },
     "execution_count": 15,
     "metadata": {},
     "output_type": "execute_result"
    }
   ],
   "source": [
    "query =\"\"\"\n",
    "select cliente.id_cliente, cliente.nombre, cliente.apellido from cliente \n",
    "where exists (select distinct id_cliente from factura where factura.id_cliente = cliente.id_cliente \n",
    "and factura.fecha_hora > current_date - interval '7 days' group by 1 having count(distinct id_sucursal) > 1)\n",
    "\"\"\"\n",
    "pretty_select(query)"
   ]
  },
  {
   "cell_type": "markdown",
   "metadata": {},
   "source": [
    "## 5."
   ]
  },
  {
   "cell_type": "markdown",
   "metadata": {},
   "source": [
    "Haga un análisis por estante de cuales categorías de producto tienen mayor rotación de inventario y haga una propuesta de modificación"
   ]
  },
  {
   "cell_type": "code",
   "execution_count": 7,
   "metadata": {},
   "outputs": [
    {
     "data": {
      "text/html": [
       "<div>\n",
       "<style scoped>\n",
       "    .dataframe tbody tr th:only-of-type {\n",
       "        vertical-align: middle;\n",
       "    }\n",
       "\n",
       "    .dataframe tbody tr th {\n",
       "        vertical-align: top;\n",
       "    }\n",
       "\n",
       "    .dataframe thead th {\n",
       "        text-align: right;\n",
       "    }\n",
       "</style>\n",
       "<table border=\"1\" class=\"dataframe\">\n",
       "  <thead>\n",
       "    <tr style=\"text-align: right;\">\n",
       "      <th></th>\n",
       "      <th>count</th>\n",
       "      <th>categoria</th>\n",
       "      <th>id_estante</th>\n",
       "    </tr>\n",
       "  </thead>\n",
       "  <tbody>\n",
       "    <tr>\n",
       "      <th>0</th>\n",
       "      <td>3</td>\n",
       "      <td>Lácteos</td>\n",
       "      <td>1</td>\n",
       "    </tr>\n",
       "    <tr>\n",
       "      <th>1</th>\n",
       "      <td>3</td>\n",
       "      <td>Charcutería</td>\n",
       "      <td>7</td>\n",
       "    </tr>\n",
       "    <tr>\n",
       "      <th>2</th>\n",
       "      <td>3</td>\n",
       "      <td>Cereales</td>\n",
       "      <td>6</td>\n",
       "    </tr>\n",
       "    <tr>\n",
       "      <th>3</th>\n",
       "      <td>3</td>\n",
       "      <td>Charcutería</td>\n",
       "      <td>2</td>\n",
       "    </tr>\n",
       "    <tr>\n",
       "      <th>4</th>\n",
       "      <td>3</td>\n",
       "      <td>Bebidas</td>\n",
       "      <td>5</td>\n",
       "    </tr>\n",
       "    <tr>\n",
       "      <th>5</th>\n",
       "      <td>3</td>\n",
       "      <td>Vegetales</td>\n",
       "      <td>13</td>\n",
       "    </tr>\n",
       "    <tr>\n",
       "      <th>6</th>\n",
       "      <td>3</td>\n",
       "      <td>No Perecederos</td>\n",
       "      <td>12</td>\n",
       "    </tr>\n",
       "    <tr>\n",
       "      <th>7</th>\n",
       "      <td>3</td>\n",
       "      <td>Bebidas</td>\n",
       "      <td>4</td>\n",
       "    </tr>\n",
       "    <tr>\n",
       "      <th>8</th>\n",
       "      <td>3</td>\n",
       "      <td>No Perecederos</td>\n",
       "      <td>11</td>\n",
       "    </tr>\n",
       "    <tr>\n",
       "      <th>9</th>\n",
       "      <td>2</td>\n",
       "      <td>Panadería</td>\n",
       "      <td>3</td>\n",
       "    </tr>\n",
       "    <tr>\n",
       "      <th>10</th>\n",
       "      <td>2</td>\n",
       "      <td>Frutas</td>\n",
       "      <td>15</td>\n",
       "    </tr>\n",
       "    <tr>\n",
       "      <th>11</th>\n",
       "      <td>2</td>\n",
       "      <td>Frutas</td>\n",
       "      <td>14</td>\n",
       "    </tr>\n",
       "    <tr>\n",
       "      <th>12</th>\n",
       "      <td>2</td>\n",
       "      <td>Enlatados</td>\n",
       "      <td>9</td>\n",
       "    </tr>\n",
       "    <tr>\n",
       "      <th>13</th>\n",
       "      <td>2</td>\n",
       "      <td>Enlatados</td>\n",
       "      <td>10</td>\n",
       "    </tr>\n",
       "    <tr>\n",
       "      <th>14</th>\n",
       "      <td>1</td>\n",
       "      <td>Frescos</td>\n",
       "      <td>16</td>\n",
       "    </tr>\n",
       "    <tr>\n",
       "      <th>15</th>\n",
       "      <td>1</td>\n",
       "      <td>Galletas</td>\n",
       "      <td>9</td>\n",
       "    </tr>\n",
       "    <tr>\n",
       "      <th>16</th>\n",
       "      <td>1</td>\n",
       "      <td>Vegetales</td>\n",
       "      <td>14</td>\n",
       "    </tr>\n",
       "    <tr>\n",
       "      <th>17</th>\n",
       "      <td>1</td>\n",
       "      <td>Galletas</td>\n",
       "      <td>8</td>\n",
       "    </tr>\n",
       "    <tr>\n",
       "      <th>18</th>\n",
       "      <td>1</td>\n",
       "      <td>Charcutería</td>\n",
       "      <td>8</td>\n",
       "    </tr>\n",
       "    <tr>\n",
       "      <th>19</th>\n",
       "      <td>1</td>\n",
       "      <td>Frutas</td>\n",
       "      <td>16</td>\n",
       "    </tr>\n",
       "    <tr>\n",
       "      <th>20</th>\n",
       "      <td>1</td>\n",
       "      <td>Lácteos</td>\n",
       "      <td>3</td>\n",
       "    </tr>\n",
       "    <tr>\n",
       "      <th>21</th>\n",
       "      <td>1</td>\n",
       "      <td>No Perecederos</td>\n",
       "      <td>10</td>\n",
       "    </tr>\n",
       "  </tbody>\n",
       "</table>\n",
       "</div>"
      ],
      "text/plain": [
       "    count       categoria  id_estante\n",
       "0       3         Lácteos           1\n",
       "1       3     Charcutería           7\n",
       "2       3        Cereales           6\n",
       "3       3     Charcutería           2\n",
       "4       3         Bebidas           5\n",
       "5       3       Vegetales          13\n",
       "6       3  No Perecederos          12\n",
       "7       3         Bebidas           4\n",
       "8       3  No Perecederos          11\n",
       "9       2       Panadería           3\n",
       "10      2          Frutas          15\n",
       "11      2          Frutas          14\n",
       "12      2       Enlatados           9\n",
       "13      2       Enlatados          10\n",
       "14      1         Frescos          16\n",
       "15      1        Galletas           9\n",
       "16      1       Vegetales          14\n",
       "17      1        Galletas           8\n",
       "18      1     Charcutería           8\n",
       "19      1          Frutas          16\n",
       "20      1         Lácteos           3\n",
       "21      1  No Perecederos          10"
      ]
     },
     "execution_count": 7,
     "metadata": {},
     "output_type": "execute_result"
    }
   ],
   "source": [
    "query =\"\"\"\n",
    "SELECT COUNT(I.id_producto), P.categoria, A.id_estante FROM inventario AS I INNER JOIN producto AS P ON I.id_producto = P.id_producto \n",
    "INNER JOIN producto_asignado AS A ON I.id_producto = A.id_producto \n",
    "GROUP BY A.id_estante, P.categoria ORDER BY COUNT(I.id_producto) DESC;\n",
    "\"\"\"\n",
    "pretty_select(query)"
   ]
  },
  {
   "cell_type": "markdown",
   "metadata": {},
   "source": [
    "## 6."
   ]
  },
  {
   "cell_type": "markdown",
   "metadata": {},
   "source": [
    "Encuentre a todos los clientes que han pagado con 2 bancos distintos en la ultima semana. Enumérelos y diga si son parte del programa de afiliados."
   ]
  },
  {
   "cell_type": "code",
   "execution_count": 13,
   "metadata": {},
   "outputs": [
    {
     "data": {
      "text/html": [
       "<div>\n",
       "<style scoped>\n",
       "    .dataframe tbody tr th:only-of-type {\n",
       "        vertical-align: middle;\n",
       "    }\n",
       "\n",
       "    .dataframe tbody tr th {\n",
       "        vertical-align: top;\n",
       "    }\n",
       "\n",
       "    .dataframe thead th {\n",
       "        text-align: right;\n",
       "    }\n",
       "</style>\n",
       "<table border=\"1\" class=\"dataframe\">\n",
       "  <thead>\n",
       "    <tr style=\"text-align: right;\">\n",
       "      <th></th>\n",
       "      <th>id_cliente</th>\n",
       "      <th>nombre</th>\n",
       "      <th>apellido</th>\n",
       "    </tr>\n",
       "  </thead>\n",
       "  <tbody>\n",
       "  </tbody>\n",
       "</table>\n",
       "</div>"
      ],
      "text/plain": [
       "Empty DataFrame\n",
       "Columns: [id_cliente, nombre, apellido]\n",
       "Index: []"
      ]
     },
     "execution_count": 13,
     "metadata": {},
     "output_type": "execute_result"
    }
   ],
   "source": [
    "query =\"\"\"\n",
    "select cliente.id_cliente, cliente.nombre, cliente.apellido from cliente \n",
    "where exists (select distinct id_cliente from factura where factura.id_cliente = cliente.id_cliente \n",
    "and factura.fecha_hora > current_date - interval '7 days' group by 1 having count(distinct banco) > 1)\n",
    "\"\"\"\n",
    "pretty_select(query)"
   ]
  },
  {
   "cell_type": "markdown",
   "metadata": {},
   "source": [
    "# procedimientos almacenados "
   ]
  },
  {
   "cell_type": "markdown",
   "metadata": {},
   "source": [
    "## 1."
   ]
  },
  {
   "cell_type": "markdown",
   "metadata": {},
   "source": [
    "Realizar compra: Esto procedimiento almacenado debe tener como parámetro una lista de productos con su cantidad, el banco por donde se va a cancelar y un cliente. Debe tener toda la lógica para ingresar en las distintas tablas la compra realizada."
   ]
  },
  {
   "cell_type": "code",
   "execution_count": 7,
   "metadata": {},
   "outputs": [],
   "source": [
    "query=\"\"\"create or replace function realizar_pago(n_cuenta integer, id_cliente integer, banco varchar(10), \n",
    "id_sucursal integer, id_factura integer, total numeric(8,0), descuento numeric(8,0), total_pago numeric(8,0), fecha_hora timestamp) returns VOID AS\n",
    "    $$\n",
    "    BEGIN\n",
    "        INSERT into factura (id_factura, id_cliente, fecha_hora, banco, id_sucursal, total, descuento, total_pago) VALUES\n",
    "        (id_factura, id_cliente, fecha_hora, banco, id_sucursal, total, descuento, total_pago);\n",
    "    END;\n",
    "    $$\n",
    "language plpgsql;\"\"\"\n",
    "\n",
    "\n",
    "cur = connection.cursor()\n",
    "cur.execute(query)\n",
    "cur.close()\n",
    "connection.commit()"
   ]
  },
  {
   "cell_type": "markdown",
   "metadata": {},
   "source": [
    "## 2."
   ]
  },
  {
   "cell_type": "markdown",
   "metadata": {},
   "source": [
    "Haga un procedimiento almacenado que al final del día saque un estado de cuenta de cuanto dinero se tiene en cada banco."
   ]
  },
  {
   "cell_type": "code",
   "execution_count": 8,
   "metadata": {},
   "outputs": [],
   "source": [
    "query=\"\"\"create or replace function estado_cuenta () returns table(banco varchar(10),total_pago numeric) AS\n",
    "    $$\n",
    "    BEGIN\n",
    "    return QUERY \n",
    "    (SELECT factura.banco, SUM(factura.total_pago) FROM factura GROUP BY factura.banco); \n",
    "    END;\n",
    "    $$\n",
    "language plpgsql;\"\"\"\n",
    "\n",
    "\n",
    "cur = connection.cursor()\n",
    "cur.execute(query)\n",
    "cur.close()\n",
    "connection.commit()"
   ]
  },
  {
   "cell_type": "code",
   "execution_count": 16,
   "metadata": {},
   "outputs": [
    {
     "data": {
      "text/html": [
       "<div>\n",
       "<style scoped>\n",
       "    .dataframe tbody tr th:only-of-type {\n",
       "        vertical-align: middle;\n",
       "    }\n",
       "\n",
       "    .dataframe tbody tr th {\n",
       "        vertical-align: top;\n",
       "    }\n",
       "\n",
       "    .dataframe thead th {\n",
       "        text-align: right;\n",
       "    }\n",
       "</style>\n",
       "<table border=\"1\" class=\"dataframe\">\n",
       "  <thead>\n",
       "    <tr style=\"text-align: right;\">\n",
       "      <th></th>\n",
       "      <th>estado_cuenta</th>\n",
       "    </tr>\n",
       "  </thead>\n",
       "  <tbody>\n",
       "  </tbody>\n",
       "</table>\n",
       "</div>"
      ],
      "text/plain": [
       "Empty DataFrame\n",
       "Columns: [estado_cuenta]\n",
       "Index: []"
      ]
     },
     "execution_count": 16,
     "metadata": {},
     "output_type": "execute_result"
    }
   ],
   "source": [
    "query=\"\"\"select estado_cuenta()\"\"\"\n",
    "pretty_select(query)"
   ]
  },
  {
   "cell_type": "markdown",
   "metadata": {},
   "source": [
    "## 3."
   ]
  },
  {
   "cell_type": "markdown",
   "metadata": {},
   "source": [
    "Haga un procedimiento almacenado que al final del mes saque un estado de cuenta de los puntos de todos los afiliados al programa de fidelidad que compraron ese mes."
   ]
  },
  {
   "cell_type": "code",
   "execution_count": 9,
   "metadata": {},
   "outputs": [],
   "source": [
    "query=\"\"\"create or replace function estado_afiliados () returns table(no_cuenta integer,\n",
    "          id_cliente integer,puntos integer) AS\n",
    "    $$\n",
    "    BEGIN\n",
    "    return QUERY\n",
    "    SELECT cuenta_programa_fidelidad.no_cuenta,cuenta_programa_fidelidad.id_cliente,\n",
    "    cuenta_programa_fidelidad.puntos FROM cuenta_programa_fidelidad,factura \n",
    "    WHERE (NOW()- INTERVAL '30' DAY) <= fecha_hora::Timestamp::Date; \n",
    "    END;\n",
    "    $$\n",
    "language plpgsql;\"\"\"\n",
    "\n",
    "\n",
    "cur = connection.cursor()\n",
    "cur.execute(query)\n",
    "cur.close()\n",
    "connection.commit()"
   ]
  },
  {
   "cell_type": "code",
   "execution_count": 10,
   "metadata": {},
   "outputs": [
    {
     "data": {
      "text/html": [
       "<div>\n",
       "<style scoped>\n",
       "    .dataframe tbody tr th:only-of-type {\n",
       "        vertical-align: middle;\n",
       "    }\n",
       "\n",
       "    .dataframe tbody tr th {\n",
       "        vertical-align: top;\n",
       "    }\n",
       "\n",
       "    .dataframe thead th {\n",
       "        text-align: right;\n",
       "    }\n",
       "</style>\n",
       "<table border=\"1\" class=\"dataframe\">\n",
       "  <thead>\n",
       "    <tr style=\"text-align: right;\">\n",
       "      <th></th>\n",
       "      <th>estado_afiliados</th>\n",
       "    </tr>\n",
       "  </thead>\n",
       "  <tbody>\n",
       "  </tbody>\n",
       "</table>\n",
       "</div>"
      ],
      "text/plain": [
       "Empty DataFrame\n",
       "Columns: [estado_afiliados]\n",
       "Index: []"
      ]
     },
     "execution_count": 10,
     "metadata": {},
     "output_type": "execute_result"
    }
   ],
   "source": [
    "query=\"\"\"select estado_afiliados()\"\"\"\n",
    "pretty_select(query)"
   ]
  },
  {
   "cell_type": "markdown",
   "metadata": {},
   "source": [
    "# extras"
   ]
  },
  {
   "cell_type": "markdown",
   "metadata": {},
   "source": [
    "## 4."
   ]
  },
  {
   "cell_type": "markdown",
   "metadata": {},
   "source": [
    "Procedimiento almacenado que retorna True si un cliente pertenece al programa de fidelidad."
   ]
  },
  {
   "cell_type": "code",
   "execution_count": 10,
   "metadata": {},
   "outputs": [],
   "source": [
    "query=\"\"\"\n",
    "CREATE OR REPLACE FUNCTION verificar_pertenece_programa(id integer) RETURNS BOOLEAN AS\n",
    "$$\n",
    "DECLARE pertenece BOOLEAN;\n",
    "BEGIN\n",
    "    IF id = (SELECT id_cliente FROM cuenta_programa_fidelidad WHERE id_cliente = id) \n",
    "    THEN pertenece = True;\n",
    "    ELSE\n",
    "        pertenece = False;\n",
    "    END IF;\n",
    "    \n",
    "    RETURN pertenece;\n",
    "END\n",
    "$$\n",
    "  LANGUAGE 'plpgsql';\n",
    "\"\"\"\n",
    "cur = connection.cursor()\n",
    "cur.execute(query)\n",
    "cur.close()\n",
    "connection.commit()"
   ]
  },
  {
   "cell_type": "markdown",
   "metadata": {},
   "source": [
    "## 5."
   ]
  },
  {
   "cell_type": "markdown",
   "metadata": {},
   "source": [
    "Procedimiento almacenado que retorna True si la cantidad restante de productos en un estante es menor al 20% de su capacidad."
   ]
  },
  {
   "cell_type": "code",
   "execution_count": 11,
   "metadata": {},
   "outputs": [],
   "source": [
    "query=\"\"\"\n",
    "CREATE OR REPLACE FUNCTION verificar_cantidad(id integer) RETURNS BOOLEAN AS\n",
    "$$\n",
    "DECLARE recargar_estante BOOLEAN;\n",
    "BEGIN\n",
    "    SELECT (SUM(cantidad_restante) < \n",
    "    (SELECT capacidad*0.20 FROM estante_inteligente WHERE id_estante = id))\n",
    "    INTO recargar_estante FROM producto_asignado WHERE id_estante = id;\n",
    "    \n",
    "    RETURN recargar_estante;\n",
    "END\n",
    "$$\n",
    "  LANGUAGE 'plpgsql';\n",
    "\"\"\"\n",
    "cur = connection.cursor()\n",
    "cur.execute(query)\n",
    "cur.close()\n",
    "connection.commit()"
   ]
  },
  {
   "cell_type": "markdown",
   "metadata": {},
   "source": [
    "## 6."
   ]
  },
  {
   "cell_type": "markdown",
   "metadata": {},
   "source": [
    "Procedimiento almacenado que llena un estante."
   ]
  },
  {
   "cell_type": "code",
   "execution_count": 12,
   "metadata": {},
   "outputs": [],
   "source": [
    "query=\"\"\"\n",
    "CREATE OR REPLACE FUNCTION llenar_estante(id integer, fecha_hora timestamp) RETURNS VOID AS\n",
    "$$\n",
    "BEGIN\n",
    "    WITH cantidades_iniciales(id_p, cantidad_i, cantidad_r) AS (SELECT id_producto, cantidad_inicial, cantidad_restante FROM producto_asignado \n",
    "    WHERE id_estante = id)\n",
    "    INSERT INTO producto_asignado(id_producto, fecha_hora, id_estante, cantidad_inicial, cantidad_restante) \n",
    "    VALUES (\n",
    "    (SELECT C.id_p FROM cantidades_iniciales AS C WHERE id_producto = C.id_p),\n",
    "    fecha_hora, \n",
    "    id,\n",
    "    (SELECT C.cantidad_i FROM cantidades_iniciales AS C WHERE id_producto = C.id_p),\n",
    "    (SELECT C.cantidad_i FROM cantidades_iniciales AS C WHERE id_producto = C.id_p));\n",
    "END\n",
    "$$\n",
    "  LANGUAGE 'plpgsql';\n",
    "\"\"\"\n",
    "cur = connection.cursor()\n",
    "cur.execute(query)\n",
    "cur.close()\n",
    "connection.commit()"
   ]
  },
  {
   "cell_type": "markdown",
   "metadata": {},
   "source": [
    "## 7."
   ]
  },
  {
   "cell_type": "markdown",
   "metadata": {},
   "source": [
    "Procedimiento almacenado que actualiza la cantidad restante de un producto de un estante. "
   ]
  },
  {
   "cell_type": "code",
   "execution_count": 13,
   "metadata": {},
   "outputs": [],
   "source": [
    "query=\"\"\"\n",
    "CREATE OR REPLACE FUNCTION update_estante(id_p integer, cant integer, fecha_hora timestamp) RETURNS VOID AS\n",
    "$$\n",
    "BEGIN\n",
    "    INSERT INTO producto_asignado(id_producto, fecha_hora, id_estante, cantidad_inicial, cantidad_restante) \n",
    "    VALUES (id_p, fecha_hora, (SELECT id_estante FROM producto_asignado WHERE id_producto = id_p LIMIT 1), \n",
    "    (SELECT cantidad_inicial FROM producto_asignado WHERE id_producto = id_p LIMIT 1), \n",
    "    (SELECT cantidad_inicial-cant FROM producto_asignado WHERE id_producto = id_p LIMIT 1)); \n",
    "END\n",
    "$$\n",
    "  LANGUAGE 'plpgsql';\n",
    "\"\"\"\n",
    "cur = connection.cursor()\n",
    "cur.execute(query)\n",
    "cur.close()\n",
    "connection.commit()"
   ]
  },
  {
   "cell_type": "code",
   "execution_count": 14,
   "metadata": {},
   "outputs": [],
   "source": [
    "query=\"\"\"\n",
    "CREATE OR REPLACE FUNCTION verificar_cliente(id integer) RETURNS BOOLEAN AS\n",
    "$$\n",
    "DECLARE is_cliente BOOLEAN;\n",
    "BEGIN\n",
    "    IF \n",
    "        id IN (SELECT id_cliente FROM cliente)\n",
    "        THEN is_cliente = True;\n",
    "    ELSE\n",
    "        is_cliente = False;\n",
    "    \n",
    "    END IF;\n",
    "    \n",
    "    RETURN is_cliente;\n",
    "END\n",
    "$$\n",
    "  LANGUAGE 'plpgsql';\n",
    "\"\"\"\n",
    "cur = connection.cursor()\n",
    "cur.execute(query)\n",
    "cur.close()\n",
    "connection.commit()"
   ]
  },
  {
   "cell_type": "markdown",
   "metadata": {},
   "source": [
    "## 8."
   ]
  },
  {
   "cell_type": "code",
   "execution_count": 15,
   "metadata": {},
   "outputs": [],
   "source": [
    "query=\"\"\"\n",
    "CREATE OR REPLACE FUNCTION verificar_cola(id integer) RETURNS BOOLEAN AS\n",
    "$$\n",
    "DECLARE esta_en_cola BOOLEAN;\n",
    "BEGIN\n",
    "    IF \n",
    "        id IN (SELECT id_cliente FROM cliente_charcuteria)\n",
    "        THEN esta_en_cola = True;\n",
    "    ELSE\n",
    "        esta_en_cola = False;\n",
    "    \n",
    "    END IF;\n",
    "    \n",
    "    RETURN esta_en_cola;\n",
    "END\n",
    "$$\n",
    "  LANGUAGE 'plpgsql';\n",
    "\"\"\"\n",
    "cur = connection.cursor()\n",
    "cur.execute(query)\n",
    "cur.close()\n",
    "connection.commit()"
   ]
  },
  {
   "cell_type": "markdown",
   "metadata": {},
   "source": [
    "# triggers"
   ]
  },
  {
   "cell_type": "markdown",
   "metadata": {},
   "source": [
    "## 1."
   ]
  },
  {
   "cell_type": "markdown",
   "metadata": {},
   "source": [
    "Cada vez que entre un cliente conocido, se debe agregar 1 punto a su estado de cuenta del programa de fidelidad."
   ]
  },
  {
   "cell_type": "code",
   "execution_count": 16,
   "metadata": {},
   "outputs": [],
   "source": [
    "query=\"\"\"\n",
    "CREATE OR REPLACE FUNCTION add_punto_programa() RETURNS TRIGGER AS\n",
    "$$\n",
    "BEGIN\n",
    "    IF NEW.id_cliente IN (SELECT id_cliente FROM visita) THEN \n",
    "    UPDATE cuenta_programa_fidelidad SET puntos = (SELECT puntos+1 FROM cuenta_programa_fidelidad WHERE id_cliente = NEW.id_cliente) \n",
    "    WHERE id_cliente = NEW.id_cliente;\n",
    "    END IF;\n",
    "    \n",
    "    RETURN NEW;\n",
    "END;\n",
    "$$\n",
    "  LANGUAGE 'plpgsql';\n",
    "\"\"\"\n",
    "cur = connection.cursor()\n",
    "cur.execute(query)\n",
    "cur.close()\n",
    "connection.commit()"
   ]
  },
  {
   "cell_type": "code",
   "execution_count": 17,
   "metadata": {},
   "outputs": [],
   "source": [
    "query=\"\"\"\n",
    "CREATE TRIGGER add_punto_programa\n",
    "  AFTER INSERT \n",
    "  ON factura\n",
    "  FOR EACH ROW\n",
    "  EXECUTE PROCEDURE add_punto_programa();\n",
    "\"\"\"\n",
    "cur = connection.cursor()\n",
    "cur.execute(query)\n",
    "cur.close()\n",
    "connection.commit()"
   ]
  },
  {
   "cell_type": "markdown",
   "metadata": {},
   "source": [
    "## 2."
   ]
  },
  {
   "cell_type": "markdown",
   "metadata": {},
   "source": [
    "Cada vez que un cliente conocido realice una compra, se le agregaran los puntos en su programa de fidelidad."
   ]
  },
  {
   "cell_type": "code",
   "execution_count": 18,
   "metadata": {},
   "outputs": [],
   "source": [
    "query=\"\"\"\n",
    "CREATE OR REPLACE FUNCTION add_puntos() RETURNS TRIGGER AS\n",
    "$$\n",
    "BEGIN\n",
    "    IF (SELECT verificar_pertenece_programa(NEW.id_cliente)) = True \n",
    "    THEN UPDATE cuenta_programa_fidelidad SET puntos = (SELECT puntos+(NEW.total_pago*0.1) FROM cuenta_programa_fidelidad \n",
    "    WHERE no_cuenta = (SELECT no_cuenta FROM cuenta_programa_fidelidad WHERE id_cliente = NEW.id_cliente)) \n",
    "    WHERE no_cuenta = (SELECT no_cuenta FROM cuenta_programa_fidelidad WHERE id_cliente = NEW.id_cliente);\n",
    "    END IF;\n",
    "    \n",
    "    RETURN NEW;\n",
    "END;\n",
    "$$\n",
    "  LANGUAGE 'plpgsql';\n",
    "\"\"\"\n",
    "cur = connection.cursor()\n",
    "cur.execute(query)\n",
    "cur.close()\n",
    "connection.commit()"
   ]
  },
  {
   "cell_type": "code",
   "execution_count": 19,
   "metadata": {},
   "outputs": [],
   "source": [
    "query=\"\"\"\n",
    "CREATE TRIGGER add_puntos\n",
    "  AFTER INSERT \n",
    "  ON factura\n",
    "  FOR EACH ROW\n",
    "  EXECUTE PROCEDURE add_puntos();\n",
    "\"\"\"\n",
    "cur = connection.cursor()\n",
    "cur.execute(query)\n",
    "cur.close()\n",
    "connection.commit()"
   ]
  },
  {
   "cell_type": "markdown",
   "metadata": {},
   "source": [
    "## 3."
   ]
  },
  {
   "cell_type": "markdown",
   "metadata": {},
   "source": [
    "Si un cliente desconocido con la misma cedula compra mas de 4 veces, automáticamente se agregará al programa de fidelidad."
   ]
  },
  {
   "cell_type": "code",
   "execution_count": 20,
   "metadata": {},
   "outputs": [],
   "source": [
    "query=\"\"\"\n",
    "CREATE OR REPLACE FUNCTION add_to_programa() RETURNS TRIGGER AS\n",
    "$$\n",
    "BEGIN\n",
    "    IF (SELECT COUNT(id_cliente) > 4 FROM factura) THEN \n",
    "    INSERT INTO cuenta_programa_fidelidad (no_cuenta, id_cliente, fecha_suscripcion, fecha_finalizacion) VALUES \n",
    "    ((SELECT no_cuenta+1 FROM cuenta_programa_fidelidad ORDER BY no_cuenta DESC LIMIT 1), NEW.id_cliente, DATE(NEW.fecha_hora), \n",
    "    DATE(NEW.fecha_hora)+30);\n",
    "    END IF;\n",
    "    \n",
    "    RETURN NEW;\n",
    "END;\n",
    "$$\n",
    "  LANGUAGE 'plpgsql';\n",
    "\"\"\"\n",
    "cur = connection.cursor()\n",
    "cur.execute(query)\n",
    "cur.close()\n",
    "connection.commit()"
   ]
  },
  {
   "cell_type": "code",
   "execution_count": 21,
   "metadata": {},
   "outputs": [],
   "source": [
    "query=\"\"\"\n",
    "CREATE TRIGGER add_to_programa\n",
    "  AFTER INSERT \n",
    "  ON factura\n",
    "  FOR EACH ROW\n",
    "  EXECUTE PROCEDURE add_to_programa();\n",
    "\"\"\"\n",
    "cur = connection.cursor()\n",
    "cur.execute(query)\n",
    "cur.close()\n",
    "connection.commit()"
   ]
  },
  {
   "cell_type": "markdown",
   "metadata": {},
   "source": [
    "# extras"
   ]
  },
  {
   "cell_type": "markdown",
   "metadata": {},
   "source": [
    "## 4."
   ]
  },
  {
   "cell_type": "markdown",
   "metadata": {},
   "source": [
    "Si la cantidad de producto en el inventario es suficiente para llenar el estante se procede a realizar el update, si no lanza un excepción."
   ]
  },
  {
   "cell_type": "markdown",
   "metadata": {},
   "source": [
    "# preguntas"
   ]
  },
  {
   "cell_type": "markdown",
   "metadata": {},
   "source": [
    "## 1."
   ]
  },
  {
   "cell_type": "markdown",
   "metadata": {},
   "source": [
    "¿Cuáles son las categorías de producto que se venden mejor en cada una de las tiendas? Use un pivot table para razonar su respuesta."
   ]
  },
  {
   "cell_type": "code",
   "execution_count": 8,
   "metadata": {},
   "outputs": [
    {
     "data": {
      "text/html": [
       "<div>\n",
       "<style scoped>\n",
       "    .dataframe tbody tr th:only-of-type {\n",
       "        vertical-align: middle;\n",
       "    }\n",
       "\n",
       "    .dataframe tbody tr th {\n",
       "        vertical-align: top;\n",
       "    }\n",
       "\n",
       "    .dataframe thead th {\n",
       "        text-align: right;\n",
       "    }\n",
       "</style>\n",
       "<table border=\"1\" class=\"dataframe\">\n",
       "  <thead>\n",
       "    <tr style=\"text-align: right;\">\n",
       "      <th></th>\n",
       "      <th>categoria</th>\n",
       "      <th>lácteos</th>\n",
       "      <th>charcutería</th>\n",
       "      <th>panadería</th>\n",
       "      <th>bebidas</th>\n",
       "      <th>cereales</th>\n",
       "      <th>galletas</th>\n",
       "      <th>no_perecederos</th>\n",
       "      <th>vegetales</th>\n",
       "      <th>frutas</th>\n",
       "      <th>frescos</th>\n",
       "      <th>enlatados</th>\n",
       "    </tr>\n",
       "  </thead>\n",
       "  <tbody>\n",
       "    <tr>\n",
       "      <th>0</th>\n",
       "      <td>1</td>\n",
       "      <td>1</td>\n",
       "      <td>None</td>\n",
       "      <td>None</td>\n",
       "      <td>None</td>\n",
       "      <td>None</td>\n",
       "      <td>None</td>\n",
       "      <td>None</td>\n",
       "      <td>None</td>\n",
       "      <td>None</td>\n",
       "      <td>None</td>\n",
       "      <td>None</td>\n",
       "    </tr>\n",
       "    <tr>\n",
       "      <th>1</th>\n",
       "      <td>7</td>\n",
       "      <td>1</td>\n",
       "      <td>None</td>\n",
       "      <td>None</td>\n",
       "      <td>None</td>\n",
       "      <td>None</td>\n",
       "      <td>None</td>\n",
       "      <td>None</td>\n",
       "      <td>None</td>\n",
       "      <td>None</td>\n",
       "      <td>None</td>\n",
       "      <td>None</td>\n",
       "    </tr>\n",
       "    <tr>\n",
       "      <th>2</th>\n",
       "      <td>9</td>\n",
       "      <td>None</td>\n",
       "      <td>None</td>\n",
       "      <td>1</td>\n",
       "      <td>None</td>\n",
       "      <td>None</td>\n",
       "      <td>None</td>\n",
       "      <td>None</td>\n",
       "      <td>None</td>\n",
       "      <td>None</td>\n",
       "      <td>None</td>\n",
       "      <td>None</td>\n",
       "    </tr>\n",
       "    <tr>\n",
       "      <th>3</th>\n",
       "      <td>11</td>\n",
       "      <td>None</td>\n",
       "      <td>None</td>\n",
       "      <td>None</td>\n",
       "      <td>1</td>\n",
       "      <td>None</td>\n",
       "      <td>None</td>\n",
       "      <td>None</td>\n",
       "      <td>None</td>\n",
       "      <td>None</td>\n",
       "      <td>None</td>\n",
       "      <td>None</td>\n",
       "    </tr>\n",
       "    <tr>\n",
       "      <th>4</th>\n",
       "      <td>27</td>\n",
       "      <td>None</td>\n",
       "      <td>None</td>\n",
       "      <td>None</td>\n",
       "      <td>None</td>\n",
       "      <td>None</td>\n",
       "      <td>None</td>\n",
       "      <td>None</td>\n",
       "      <td>None</td>\n",
       "      <td>None</td>\n",
       "      <td>None</td>\n",
       "      <td>1</td>\n",
       "    </tr>\n",
       "    <tr>\n",
       "      <th>5</th>\n",
       "      <td>28</td>\n",
       "      <td>None</td>\n",
       "      <td>None</td>\n",
       "      <td>None</td>\n",
       "      <td>None</td>\n",
       "      <td>None</td>\n",
       "      <td>None</td>\n",
       "      <td>None</td>\n",
       "      <td>None</td>\n",
       "      <td>None</td>\n",
       "      <td>None</td>\n",
       "      <td>1</td>\n",
       "    </tr>\n",
       "  </tbody>\n",
       "</table>\n",
       "</div>"
      ],
      "text/plain": [
       "  categoria lácteos charcutería panadería bebidas cereales galletas  \\\n",
       "0         1       1        None      None    None     None     None   \n",
       "1         7       1        None      None    None     None     None   \n",
       "2         9    None        None         1    None     None     None   \n",
       "3        11    None        None      None       1     None     None   \n",
       "4        27    None        None      None    None     None     None   \n",
       "5        28    None        None      None    None     None     None   \n",
       "\n",
       "  no_perecederos vegetales frutas frescos enlatados  \n",
       "0           None      None   None    None      None  \n",
       "1           None      None   None    None      None  \n",
       "2           None      None   None    None      None  \n",
       "3           None      None   None    None      None  \n",
       "4           None      None   None    None         1  \n",
       "5           None      None   None    None         1  "
      ]
     },
     "execution_count": 8,
     "metadata": {},
     "output_type": "execute_result"
    }
   ],
   "source": [
    "query=\"\"\"SELECT * FROM crosstab($$\n",
    "select detalle_factura.id_producto, producto.categoria,  factura.id_sucursal from factura join detalle_factura on\n",
    "factura.id_factura = detalle_factura.id_factura join producto on detalle_factura.id_producto = producto.id_producto where factura.id_sucursal = 1 $$, \n",
    "$$ SELECT 'Lácteos' UNION ALL\n",
    "  SELECT 'Charcutería' UNION ALL\n",
    "  SELECT 'Panadería' UNION ALL\n",
    "  SELECT 'Bebidas' UNION ALL\n",
    "  SELECT 'Cereales' UNION ALL\n",
    "  SELECT 'Galletas' UNION ALL\n",
    "  SELECT 'No Perecederos' UNION ALL\n",
    "SELECT 'Vegetales' UNION ALL \n",
    "SELECT 'Frutas' UNION ALL\n",
    " SELECT 'Frescos' UNION ALL  \n",
    "SELECT 'Enlatados' $$\n",
    ") AS ct(categoria text, Lácteos text, Charcutería text, Panadería text, Bebidas text, Cereales text,\n",
    "Galletas text, No_Perecederos text, Vegetales text, Frutas text, Frescos text, Enlatados text);\"\"\"\n",
    "pretty_select(query)"
   ]
  },
  {
   "cell_type": "code",
   "execution_count": 9,
   "metadata": {},
   "outputs": [
    {
     "data": {
      "text/html": [
       "<div>\n",
       "<style scoped>\n",
       "    .dataframe tbody tr th:only-of-type {\n",
       "        vertical-align: middle;\n",
       "    }\n",
       "\n",
       "    .dataframe tbody tr th {\n",
       "        vertical-align: top;\n",
       "    }\n",
       "\n",
       "    .dataframe thead th {\n",
       "        text-align: right;\n",
       "    }\n",
       "</style>\n",
       "<table border=\"1\" class=\"dataframe\">\n",
       "  <thead>\n",
       "    <tr style=\"text-align: right;\">\n",
       "      <th></th>\n",
       "      <th>categoria</th>\n",
       "      <th>lácteos</th>\n",
       "      <th>charcutería</th>\n",
       "      <th>panadería</th>\n",
       "      <th>bebidas</th>\n",
       "      <th>cereales</th>\n",
       "      <th>galletas</th>\n",
       "      <th>no_perecederos</th>\n",
       "      <th>vegetales</th>\n",
       "      <th>frutas</th>\n",
       "      <th>frescos</th>\n",
       "      <th>enlatados</th>\n",
       "    </tr>\n",
       "  </thead>\n",
       "  <tbody>\n",
       "    <tr>\n",
       "      <th>0</th>\n",
       "      <td>19</td>\n",
       "      <td>None</td>\n",
       "      <td>2</td>\n",
       "      <td>None</td>\n",
       "      <td>None</td>\n",
       "      <td>None</td>\n",
       "      <td>None</td>\n",
       "      <td>None</td>\n",
       "      <td>None</td>\n",
       "      <td>None</td>\n",
       "      <td>None</td>\n",
       "      <td>None</td>\n",
       "    </tr>\n",
       "    <tr>\n",
       "      <th>1</th>\n",
       "      <td>21</td>\n",
       "      <td>None</td>\n",
       "      <td>2</td>\n",
       "      <td>None</td>\n",
       "      <td>None</td>\n",
       "      <td>None</td>\n",
       "      <td>None</td>\n",
       "      <td>None</td>\n",
       "      <td>None</td>\n",
       "      <td>None</td>\n",
       "      <td>None</td>\n",
       "      <td>None</td>\n",
       "    </tr>\n",
       "    <tr>\n",
       "      <th>2</th>\n",
       "      <td>30</td>\n",
       "      <td>None</td>\n",
       "      <td>None</td>\n",
       "      <td>None</td>\n",
       "      <td>None</td>\n",
       "      <td>None</td>\n",
       "      <td>None</td>\n",
       "      <td>2</td>\n",
       "      <td>None</td>\n",
       "      <td>None</td>\n",
       "      <td>None</td>\n",
       "      <td>None</td>\n",
       "    </tr>\n",
       "    <tr>\n",
       "      <th>3</th>\n",
       "      <td>32</td>\n",
       "      <td>None</td>\n",
       "      <td>None</td>\n",
       "      <td>None</td>\n",
       "      <td>None</td>\n",
       "      <td>None</td>\n",
       "      <td>None</td>\n",
       "      <td>2</td>\n",
       "      <td>None</td>\n",
       "      <td>None</td>\n",
       "      <td>None</td>\n",
       "      <td>None</td>\n",
       "    </tr>\n",
       "    <tr>\n",
       "      <th>4</th>\n",
       "      <td>34</td>\n",
       "      <td>None</td>\n",
       "      <td>None</td>\n",
       "      <td>None</td>\n",
       "      <td>None</td>\n",
       "      <td>None</td>\n",
       "      <td>None</td>\n",
       "      <td>2</td>\n",
       "      <td>None</td>\n",
       "      <td>None</td>\n",
       "      <td>None</td>\n",
       "      <td>None</td>\n",
       "    </tr>\n",
       "    <tr>\n",
       "      <th>5</th>\n",
       "      <td>41</td>\n",
       "      <td>None</td>\n",
       "      <td>None</td>\n",
       "      <td>None</td>\n",
       "      <td>None</td>\n",
       "      <td>None</td>\n",
       "      <td>None</td>\n",
       "      <td>None</td>\n",
       "      <td>None</td>\n",
       "      <td>2</td>\n",
       "      <td>None</td>\n",
       "      <td>None</td>\n",
       "    </tr>\n",
       "  </tbody>\n",
       "</table>\n",
       "</div>"
      ],
      "text/plain": [
       "  categoria lácteos charcutería panadería bebidas cereales galletas  \\\n",
       "0        19    None           2      None    None     None     None   \n",
       "1        21    None           2      None    None     None     None   \n",
       "2        30    None        None      None    None     None     None   \n",
       "3        32    None        None      None    None     None     None   \n",
       "4        34    None        None      None    None     None     None   \n",
       "5        41    None        None      None    None     None     None   \n",
       "\n",
       "  no_perecederos vegetales frutas frescos enlatados  \n",
       "0           None      None   None    None      None  \n",
       "1           None      None   None    None      None  \n",
       "2              2      None   None    None      None  \n",
       "3              2      None   None    None      None  \n",
       "4              2      None   None    None      None  \n",
       "5           None      None      2    None      None  "
      ]
     },
     "execution_count": 9,
     "metadata": {},
     "output_type": "execute_result"
    }
   ],
   "source": [
    "query=\"\"\"SELECT * FROM crosstab($$\n",
    "select detalle_factura.id_producto, producto.categoria,  factura.id_sucursal from factura join detalle_factura on\n",
    "factura.id_factura = detalle_factura.id_factura join producto on detalle_factura.id_producto = producto.id_producto where factura.id_sucursal = 2 $$, \n",
    "$$ SELECT 'Lácteos' UNION ALL\n",
    "  SELECT 'Charcutería' UNION ALL\n",
    "  SELECT 'Panadería' UNION ALL\n",
    "  SELECT 'Bebidas' UNION ALL\n",
    "  SELECT 'Cereales' UNION ALL\n",
    "  SELECT 'Galletas' UNION ALL\n",
    "  SELECT 'No Perecederos' UNION ALL\n",
    "SELECT 'Vegetales' UNION ALL \n",
    "SELECT 'Frutas' UNION ALL\n",
    " SELECT 'Frescos' UNION ALL  \n",
    "SELECT 'Enlatados' $$\n",
    ") AS ct(categoria text, Lácteos text, Charcutería text, Panadería text, Bebidas text, Cereales text,\n",
    "Galletas text, No_Perecederos text, Vegetales text, Frutas text, Frescos text, Enlatados text);\"\"\"\n",
    "pretty_select(query)"
   ]
  },
  {
   "cell_type": "markdown",
   "metadata": {},
   "source": [
    "## 2."
   ]
  },
  {
   "cell_type": "markdown",
   "metadata": {},
   "source": [
    "¿Qué banco, categoría de producto y tienda prefieren los clientes de nuestro programa de afiliados? Razone su respuesta."
   ]
  },
  {
   "cell_type": "code",
   "execution_count": 6,
   "metadata": {},
   "outputs": [
    {
     "data": {
      "text/html": [
       "<div>\n",
       "<style scoped>\n",
       "    .dataframe tbody tr th:only-of-type {\n",
       "        vertical-align: middle;\n",
       "    }\n",
       "\n",
       "    .dataframe tbody tr th {\n",
       "        vertical-align: top;\n",
       "    }\n",
       "\n",
       "    .dataframe thead th {\n",
       "        text-align: right;\n",
       "    }\n",
       "</style>\n",
       "<table border=\"1\" class=\"dataframe\">\n",
       "  <thead>\n",
       "    <tr style=\"text-align: right;\">\n",
       "      <th></th>\n",
       "      <th>count</th>\n",
       "      <th>banco</th>\n",
       "    </tr>\n",
       "  </thead>\n",
       "  <tbody>\n",
       "    <tr>\n",
       "      <th>0</th>\n",
       "      <td>2</td>\n",
       "      <td>Banesco</td>\n",
       "    </tr>\n",
       "    <tr>\n",
       "      <th>1</th>\n",
       "      <td>6</td>\n",
       "      <td>Provincial</td>\n",
       "    </tr>\n",
       "    <tr>\n",
       "      <th>2</th>\n",
       "      <td>2</td>\n",
       "      <td>Mercantil</td>\n",
       "    </tr>\n",
       "  </tbody>\n",
       "</table>\n",
       "</div>"
      ],
      "text/plain": [
       "   count       banco\n",
       "0      2     Banesco\n",
       "1      6  Provincial\n",
       "2      2   Mercantil"
      ]
     },
     "execution_count": 6,
     "metadata": {},
     "output_type": "execute_result"
    }
   ],
   "source": [
    "query= \"\"\"\n",
    "select count(factura.id_factura), factura.banco from factura join cuenta_programa_fidelidad on \n",
    "factura.id_cliente = cuenta_programa_fidelidad.id_cliente group by 2;\n",
    "\"\"\"\n",
    "pretty_select(query)"
   ]
  },
  {
   "cell_type": "code",
   "execution_count": 7,
   "metadata": {},
   "outputs": [
    {
     "data": {
      "text/html": [
       "<div>\n",
       "<style scoped>\n",
       "    .dataframe tbody tr th:only-of-type {\n",
       "        vertical-align: middle;\n",
       "    }\n",
       "\n",
       "    .dataframe tbody tr th {\n",
       "        vertical-align: top;\n",
       "    }\n",
       "\n",
       "    .dataframe thead th {\n",
       "        text-align: right;\n",
       "    }\n",
       "</style>\n",
       "<table border=\"1\" class=\"dataframe\">\n",
       "  <thead>\n",
       "    <tr style=\"text-align: right;\">\n",
       "      <th></th>\n",
       "      <th>count</th>\n",
       "      <th>id_sucursal</th>\n",
       "    </tr>\n",
       "  </thead>\n",
       "  <tbody>\n",
       "    <tr>\n",
       "      <th>0</th>\n",
       "      <td>4</td>\n",
       "      <td>1</td>\n",
       "    </tr>\n",
       "    <tr>\n",
       "      <th>1</th>\n",
       "      <td>6</td>\n",
       "      <td>2</td>\n",
       "    </tr>\n",
       "  </tbody>\n",
       "</table>\n",
       "</div>"
      ],
      "text/plain": [
       "   count  id_sucursal\n",
       "0      4            1\n",
       "1      6            2"
      ]
     },
     "execution_count": 7,
     "metadata": {},
     "output_type": "execute_result"
    }
   ],
   "source": [
    "query= \"\"\"\n",
    "select count(factura.id_factura), factura.id_sucursal from factura join cuenta_programa_fidelidad on \n",
    "factura.id_cliente = cuenta_programa_fidelidad.id_cliente group by 2;\n",
    "\"\"\"\n",
    "pretty_select(query)"
   ]
  },
  {
   "cell_type": "code",
   "execution_count": 8,
   "metadata": {},
   "outputs": [
    {
     "data": {
      "text/html": [
       "<div>\n",
       "<style scoped>\n",
       "    .dataframe tbody tr th:only-of-type {\n",
       "        vertical-align: middle;\n",
       "    }\n",
       "\n",
       "    .dataframe tbody tr th {\n",
       "        vertical-align: top;\n",
       "    }\n",
       "\n",
       "    .dataframe thead th {\n",
       "        text-align: right;\n",
       "    }\n",
       "</style>\n",
       "<table border=\"1\" class=\"dataframe\">\n",
       "  <thead>\n",
       "    <tr style=\"text-align: right;\">\n",
       "      <th></th>\n",
       "      <th>count</th>\n",
       "      <th>categoria</th>\n",
       "    </tr>\n",
       "  </thead>\n",
       "  <tbody>\n",
       "    <tr>\n",
       "      <th>0</th>\n",
       "      <td>2</td>\n",
       "      <td>Bebidas</td>\n",
       "    </tr>\n",
       "    <tr>\n",
       "      <th>1</th>\n",
       "      <td>3</td>\n",
       "      <td>Charcutería</td>\n",
       "    </tr>\n",
       "    <tr>\n",
       "      <th>2</th>\n",
       "      <td>2</td>\n",
       "      <td>Enlatados</td>\n",
       "    </tr>\n",
       "    <tr>\n",
       "      <th>3</th>\n",
       "      <td>1</td>\n",
       "      <td>Frutas</td>\n",
       "    </tr>\n",
       "    <tr>\n",
       "      <th>4</th>\n",
       "      <td>3</td>\n",
       "      <td>Lácteos</td>\n",
       "    </tr>\n",
       "    <tr>\n",
       "      <th>5</th>\n",
       "      <td>6</td>\n",
       "      <td>No Perecederos</td>\n",
       "    </tr>\n",
       "    <tr>\n",
       "      <th>6</th>\n",
       "      <td>1</td>\n",
       "      <td>Panadería</td>\n",
       "    </tr>\n",
       "  </tbody>\n",
       "</table>\n",
       "</div>"
      ],
      "text/plain": [
       "   count       categoria\n",
       "0      2         Bebidas\n",
       "1      3     Charcutería\n",
       "2      2       Enlatados\n",
       "3      1          Frutas\n",
       "4      3         Lácteos\n",
       "5      6  No Perecederos\n",
       "6      1       Panadería"
      ]
     },
     "execution_count": 8,
     "metadata": {},
     "output_type": "execute_result"
    }
   ],
   "source": [
    "query= \"\"\"\n",
    "select count(detalle_factura.id_producto), producto.categoria from factura join detalle_factura on factura.id_factura = detalle_factura.id_factura \n",
    "join cuenta_programa_fidelidad on factura.id_cliente = cuenta_programa_fidelidad.id_cliente \n",
    "join producto on producto.id_producto = detalle_factura.id_producto group by 2;\n",
    "\"\"\"\n",
    "pretty_select(query)"
   ]
  },
  {
   "cell_type": "markdown",
   "metadata": {},
   "source": [
    "## 3."
   ]
  },
  {
   "cell_type": "markdown",
   "metadata": {},
   "source": [
    "¿Qué horas del día son más rentable para cada una de las tiendas? Razone su respuesta."
   ]
  },
  {
   "cell_type": "code",
   "execution_count": 9,
   "metadata": {},
   "outputs": [
    {
     "data": {
      "text/html": [
       "<div>\n",
       "<style scoped>\n",
       "    .dataframe tbody tr th:only-of-type {\n",
       "        vertical-align: middle;\n",
       "    }\n",
       "\n",
       "    .dataframe tbody tr th {\n",
       "        vertical-align: top;\n",
       "    }\n",
       "\n",
       "    .dataframe thead th {\n",
       "        text-align: right;\n",
       "    }\n",
       "</style>\n",
       "<table border=\"1\" class=\"dataframe\">\n",
       "  <thead>\n",
       "    <tr style=\"text-align: right;\">\n",
       "      <th></th>\n",
       "      <th>count</th>\n",
       "      <th>fecha_hora</th>\n",
       "    </tr>\n",
       "  </thead>\n",
       "  <tbody>\n",
       "    <tr>\n",
       "      <th>0</th>\n",
       "      <td>1</td>\n",
       "      <td>2020-06-21 22:00:00.073816</td>\n",
       "    </tr>\n",
       "    <tr>\n",
       "      <th>1</th>\n",
       "      <td>2</td>\n",
       "      <td>2020-06-21 22:00:00.073816</td>\n",
       "    </tr>\n",
       "    <tr>\n",
       "      <th>2</th>\n",
       "      <td>1</td>\n",
       "      <td>2020-06-21 22:00:00.073816</td>\n",
       "    </tr>\n",
       "  </tbody>\n",
       "</table>\n",
       "</div>"
      ],
      "text/plain": [
       "   count                 fecha_hora\n",
       "0      1 2020-06-21 22:00:00.073816\n",
       "1      2 2020-06-21 22:00:00.073816\n",
       "2      1 2020-06-21 22:00:00.073816"
      ]
     },
     "execution_count": 9,
     "metadata": {},
     "output_type": "execute_result"
    }
   ],
   "source": [
    "query=\"\"\"SELECT COUNT(id_cliente), fecha_hora FROM factura WHERE id_sucursal = 1 GROUP BY id_cliente,fecha_hora \"\"\"\n",
    "pretty_select(query)"
   ]
  },
  {
   "cell_type": "code",
   "execution_count": 10,
   "metadata": {},
   "outputs": [
    {
     "data": {
      "text/html": [
       "<div>\n",
       "<style scoped>\n",
       "    .dataframe tbody tr th:only-of-type {\n",
       "        vertical-align: middle;\n",
       "    }\n",
       "\n",
       "    .dataframe tbody tr th {\n",
       "        vertical-align: top;\n",
       "    }\n",
       "\n",
       "    .dataframe thead th {\n",
       "        text-align: right;\n",
       "    }\n",
       "</style>\n",
       "<table border=\"1\" class=\"dataframe\">\n",
       "  <thead>\n",
       "    <tr style=\"text-align: right;\">\n",
       "      <th></th>\n",
       "      <th>count</th>\n",
       "      <th>fecha_hora</th>\n",
       "    </tr>\n",
       "  </thead>\n",
       "  <tbody>\n",
       "    <tr>\n",
       "      <th>0</th>\n",
       "      <td>2</td>\n",
       "      <td>2020-06-21 22:00:00.073816</td>\n",
       "    </tr>\n",
       "    <tr>\n",
       "      <th>1</th>\n",
       "      <td>1</td>\n",
       "      <td>2020-06-21 22:00:00.073816</td>\n",
       "    </tr>\n",
       "    <tr>\n",
       "      <th>2</th>\n",
       "      <td>1</td>\n",
       "      <td>2020-06-22 01:00:00.073816</td>\n",
       "    </tr>\n",
       "    <tr>\n",
       "      <th>3</th>\n",
       "      <td>1</td>\n",
       "      <td>2020-06-21 22:00:00.073816</td>\n",
       "    </tr>\n",
       "    <tr>\n",
       "      <th>4</th>\n",
       "      <td>1</td>\n",
       "      <td>2020-06-22 05:00:00.073816</td>\n",
       "    </tr>\n",
       "  </tbody>\n",
       "</table>\n",
       "</div>"
      ],
      "text/plain": [
       "   count                 fecha_hora\n",
       "0      2 2020-06-21 22:00:00.073816\n",
       "1      1 2020-06-21 22:00:00.073816\n",
       "2      1 2020-06-22 01:00:00.073816\n",
       "3      1 2020-06-21 22:00:00.073816\n",
       "4      1 2020-06-22 05:00:00.073816"
      ]
     },
     "execution_count": 10,
     "metadata": {},
     "output_type": "execute_result"
    }
   ],
   "source": [
    "query=\"\"\"SELECT COUNT(id_cliente), fecha_hora FROM factura WHERE id_sucursal = 2 GROUP BY id_cliente,fecha_hora \"\"\"\n",
    "pretty_select(query)"
   ]
  },
  {
   "cell_type": "markdown",
   "metadata": {},
   "source": [
    "# conectar e iniciar suscriptor"
   ]
  },
  {
   "cell_type": "code",
   "execution_count": 13,
   "metadata": {},
   "outputs": [
    {
     "name": "stdout",
     "output_type": "stream",
     "text": [
      "connected (b'')\n",
      "{'id_producto': 8, 'cantidad': 15, 'id_estante': 3, 'sucursal': 'sucursal1', 'hora': '2020-06-22 15:00:00.242907'}\n",
      "---------------------------------------------------------\n",
      "datos guardados\n",
      "{'sucursal': 'sucursal1', 'id_cliente': 22, 'id_sucursal': 1}\n",
      "---------------------------------------------------------\n",
      "{'sucursal': 'sucursal1', 'id_cliente': 46, 'id_sucursal': 1}\n",
      "---------------------------------------------------------\n",
      "{'id_producto': 30, 'cantidad': 2, 'id_estante': 11, 'sucursal': 'sucursal2', 'hora': '2020-06-22 15:00:00.242907'}\n",
      "---------------------------------------------------------\n",
      "datos guardados\n",
      "{'sucursal': 'sucursal1', 'id_cliente': 2, 'id_sucursal': 1}\n",
      "---------------------------------------------------------\n",
      "{'id_producto': 33, 'cantidad': 32, 'id_estante': 12, 'sucursal': 'sucursal2', 'hora': '2020-06-22 15:00:00.242907'}\n",
      "---------------------------------------------------------\n",
      "datos guardados\n",
      "{'sucursal': 'sucursal1', 'id_cliente': 42, 'id_sucursal': 1}\n",
      "---------------------------------------------------------\n",
      "{'id_producto': 21, 'cantidad': 19, 'id_estante': 10, 'sucursal': 'sucursal2', 'hora': '2020-06-22 15:00:00.242907'}\n",
      "---------------------------------------------------------\n",
      "datos guardados\n",
      "{'id_producto': 26, 'cantidad': 15, 'id_estante': 9, 'sucursal': 'sucursal2', 'hora': '2020-06-22 15:00:00.242907'}\n",
      "---------------------------------------------------------\n",
      "datos guardados\n",
      "{'id_producto': 41, 'cantidad': 40, 'id_estante': 14, 'sucursal': 'sucursal2', 'hora': '2020-06-22 16:00:00.242907'}\n",
      "---------------------------------------------------------\n",
      "datos guardados\n",
      "{'sucursal': 'sucursal2', 'id_cliente': 31, 'id_sucursal': 2}\n",
      "---------------------------------------------------------\n",
      "{'sucursal': 'sucursal2', 'id_cliente': 44, 'id_sucursal': 2}\n",
      "---------------------------------------------------------\n",
      "{'id_producto': 7, 'cantidad': 3, 'id_estante': 3, 'sucursal': 'sucursal1', 'hora': '2020-06-22 19:00:00.242907'}\n",
      "---------------------------------------------------------\n",
      "datos guardados\n",
      "{'id_producto': 7, 'cantidad': 7, 'id_estante': 3, 'sucursal': 'sucursal1', 'hora': '2020-06-22 20:00:00.242907'}\n",
      "---------------------------------------------------------\n"
     ]
    },
    {
     "ename": "CardinalityViolation",
     "evalue": "more than one row returned by a subquery used as an expression\nCONTEXT:  SQL statement \"INSERT INTO producto_asignado(id_producto, fecha_hora, id_estante, cantidad_inicial, cantidad_restante) \n    VALUES (id_p, fecha_hora, (SELECT id_estante FROM producto_asignado WHERE id_producto = id_p), \n    (SELECT cantidad_inicial FROM producto_asignado WHERE id_producto = id_p LIMIT 1), \n    (SELECT cantidad_inicial-cant FROM producto_asignado WHERE id_producto = id_p LIMIT 1))\"\nPL/pgSQL function update_estante(integer,integer,timestamp without time zone) line 3 at SQL statement\n",
     "output_type": "error",
     "traceback": [
      "\u001b[1;31m---------------------------------------------------------------------------\u001b[0m",
      "\u001b[1;31mCardinalityViolation\u001b[0m                      Traceback (most recent call last)",
      "\u001b[1;32m<ipython-input-13-d6065d784ee7>\u001b[0m in \u001b[0;36m<module>\u001b[1;34m()\u001b[0m\n\u001b[0;32m      1\u001b[0m \u001b[1;31m## se crea un suscriptor y se conecta\u001b[0m\u001b[1;33m\u001b[0m\u001b[1;33m\u001b[0m\u001b[0m\n\u001b[0;32m      2\u001b[0m \u001b[0msuscriptor\u001b[0m \u001b[1;33m=\u001b[0m \u001b[0msub\u001b[0m\u001b[1;33m.\u001b[0m\u001b[0msuscriptor\u001b[0m\u001b[1;33m(\u001b[0m\u001b[0mconnection\u001b[0m\u001b[1;33m)\u001b[0m\u001b[1;33m\u001b[0m\u001b[0m\n\u001b[1;32m----> 3\u001b[1;33m \u001b[0msuscriptor\u001b[0m\u001b[1;33m.\u001b[0m\u001b[0mconectar_suscriptor\u001b[0m\u001b[1;33m(\u001b[0m\u001b[1;33m)\u001b[0m\u001b[1;33m\u001b[0m\u001b[0m\n\u001b[0m",
      "\u001b[1;32m~\\Proyecto 1 Final\\sub.py\u001b[0m in \u001b[0;36mconectar_suscriptor\u001b[1;34m(self)\u001b[0m\n\u001b[0;32m     62\u001b[0m         \u001b[0mself\u001b[0m\u001b[1;33m.\u001b[0m\u001b[0mclient\u001b[0m\u001b[1;33m.\u001b[0m\u001b[0mmessage_callback_add\u001b[0m\u001b[1;33m(\u001b[0m\u001b[1;34m'sucursal2/sensores'\u001b[0m\u001b[1;33m,\u001b[0m \u001b[0mself\u001b[0m\u001b[1;33m.\u001b[0m\u001b[0mon_data_sensor\u001b[0m\u001b[1;33m)\u001b[0m\u001b[1;33m\u001b[0m\u001b[0m\n\u001b[0;32m     63\u001b[0m         \u001b[0mself\u001b[0m\u001b[1;33m.\u001b[0m\u001b[0mclient\u001b[0m\u001b[1;33m.\u001b[0m\u001b[0mconnect\u001b[0m\u001b[1;33m(\u001b[0m\u001b[0mhost\u001b[0m\u001b[1;33m=\u001b[0m\u001b[0mhost\u001b[0m\u001b[1;33m)\u001b[0m\u001b[1;33m\u001b[0m\u001b[0m\n\u001b[1;32m---> 64\u001b[1;33m         \u001b[0mself\u001b[0m\u001b[1;33m.\u001b[0m\u001b[0mclient\u001b[0m\u001b[1;33m.\u001b[0m\u001b[0mloop_forever\u001b[0m\u001b[1;33m(\u001b[0m\u001b[1;33m)\u001b[0m\u001b[1;33m\u001b[0m\u001b[0m\n\u001b[0m\u001b[0;32m     65\u001b[0m \u001b[1;33m\u001b[0m\u001b[0m\n\u001b[0;32m     66\u001b[0m     \u001b[1;32mdef\u001b[0m \u001b[0mguardar_datos\u001b[0m\u001b[1;33m(\u001b[0m\u001b[0mself\u001b[0m\u001b[1;33m,\u001b[0m \u001b[0ma\u001b[0m\u001b[1;33m)\u001b[0m\u001b[1;33m:\u001b[0m\u001b[1;33m\u001b[0m\u001b[0m\n",
      "\u001b[1;32mC:\\ProgramData\\Anaconda3\\lib\\site-packages\\paho\\mqtt\\client.py\u001b[0m in \u001b[0;36mloop_forever\u001b[1;34m(self, timeout, max_packets, retry_first_connection)\u001b[0m\n\u001b[0;32m   1479\u001b[0m             \u001b[0mrc\u001b[0m \u001b[1;33m=\u001b[0m \u001b[0mMQTT_ERR_SUCCESS\u001b[0m\u001b[1;33m\u001b[0m\u001b[0m\n\u001b[0;32m   1480\u001b[0m             \u001b[1;32mwhile\u001b[0m \u001b[0mrc\u001b[0m \u001b[1;33m==\u001b[0m \u001b[0mMQTT_ERR_SUCCESS\u001b[0m\u001b[1;33m:\u001b[0m\u001b[1;33m\u001b[0m\u001b[0m\n\u001b[1;32m-> 1481\u001b[1;33m                 \u001b[0mrc\u001b[0m \u001b[1;33m=\u001b[0m \u001b[0mself\u001b[0m\u001b[1;33m.\u001b[0m\u001b[0mloop\u001b[0m\u001b[1;33m(\u001b[0m\u001b[0mtimeout\u001b[0m\u001b[1;33m,\u001b[0m \u001b[0mmax_packets\u001b[0m\u001b[1;33m)\u001b[0m\u001b[1;33m\u001b[0m\u001b[0m\n\u001b[0m\u001b[0;32m   1482\u001b[0m                 \u001b[1;31m# We don't need to worry about locking here, because we've\u001b[0m\u001b[1;33m\u001b[0m\u001b[1;33m\u001b[0m\u001b[0m\n\u001b[0;32m   1483\u001b[0m                 \u001b[1;31m# either called loop_forever() when in single threaded mode, or\u001b[0m\u001b[1;33m\u001b[0m\u001b[1;33m\u001b[0m\u001b[0m\n",
      "\u001b[1;32mC:\\ProgramData\\Anaconda3\\lib\\site-packages\\paho\\mqtt\\client.py\u001b[0m in \u001b[0;36mloop\u001b[1;34m(self, timeout, max_packets)\u001b[0m\n\u001b[0;32m   1001\u001b[0m \u001b[1;33m\u001b[0m\u001b[0m\n\u001b[0;32m   1002\u001b[0m         \u001b[1;32mif\u001b[0m \u001b[0mself\u001b[0m\u001b[1;33m.\u001b[0m\u001b[0m_sock\u001b[0m \u001b[1;32min\u001b[0m \u001b[0msocklist\u001b[0m\u001b[1;33m[\u001b[0m\u001b[1;36m0\u001b[0m\u001b[1;33m]\u001b[0m \u001b[1;32mor\u001b[0m \u001b[0mpending_bytes\u001b[0m \u001b[1;33m>\u001b[0m \u001b[1;36m0\u001b[0m\u001b[1;33m:\u001b[0m\u001b[1;33m\u001b[0m\u001b[0m\n\u001b[1;32m-> 1003\u001b[1;33m             \u001b[0mrc\u001b[0m \u001b[1;33m=\u001b[0m \u001b[0mself\u001b[0m\u001b[1;33m.\u001b[0m\u001b[0mloop_read\u001b[0m\u001b[1;33m(\u001b[0m\u001b[0mmax_packets\u001b[0m\u001b[1;33m)\u001b[0m\u001b[1;33m\u001b[0m\u001b[0m\n\u001b[0m\u001b[0;32m   1004\u001b[0m             \u001b[1;32mif\u001b[0m \u001b[0mrc\u001b[0m \u001b[1;32mor\u001b[0m \u001b[0mself\u001b[0m\u001b[1;33m.\u001b[0m\u001b[0m_sock\u001b[0m \u001b[1;32mis\u001b[0m \u001b[1;32mNone\u001b[0m\u001b[1;33m:\u001b[0m\u001b[1;33m\u001b[0m\u001b[0m\n\u001b[0;32m   1005\u001b[0m                 \u001b[1;32mreturn\u001b[0m \u001b[0mrc\u001b[0m\u001b[1;33m\u001b[0m\u001b[0m\n",
      "\u001b[1;32mC:\\ProgramData\\Anaconda3\\lib\\site-packages\\paho\\mqtt\\client.py\u001b[0m in \u001b[0;36mloop_read\u001b[1;34m(self, max_packets)\u001b[0m\n\u001b[0;32m   1282\u001b[0m             \u001b[1;32mif\u001b[0m \u001b[0mself\u001b[0m\u001b[1;33m.\u001b[0m\u001b[0m_sock\u001b[0m \u001b[1;32mis\u001b[0m \u001b[1;32mNone\u001b[0m\u001b[1;33m:\u001b[0m\u001b[1;33m\u001b[0m\u001b[0m\n\u001b[0;32m   1283\u001b[0m                 \u001b[1;32mreturn\u001b[0m \u001b[0mMQTT_ERR_NO_CONN\u001b[0m\u001b[1;33m\u001b[0m\u001b[0m\n\u001b[1;32m-> 1284\u001b[1;33m             \u001b[0mrc\u001b[0m \u001b[1;33m=\u001b[0m \u001b[0mself\u001b[0m\u001b[1;33m.\u001b[0m\u001b[0m_packet_read\u001b[0m\u001b[1;33m(\u001b[0m\u001b[1;33m)\u001b[0m\u001b[1;33m\u001b[0m\u001b[0m\n\u001b[0m\u001b[0;32m   1285\u001b[0m             \u001b[1;32mif\u001b[0m \u001b[0mrc\u001b[0m \u001b[1;33m>\u001b[0m \u001b[1;36m0\u001b[0m\u001b[1;33m:\u001b[0m\u001b[1;33m\u001b[0m\u001b[0m\n\u001b[0;32m   1286\u001b[0m                 \u001b[1;32mreturn\u001b[0m \u001b[0mself\u001b[0m\u001b[1;33m.\u001b[0m\u001b[0m_loop_rc_handle\u001b[0m\u001b[1;33m(\u001b[0m\u001b[0mrc\u001b[0m\u001b[1;33m)\u001b[0m\u001b[1;33m\u001b[0m\u001b[0m\n",
      "\u001b[1;32mC:\\ProgramData\\Anaconda3\\lib\\site-packages\\paho\\mqtt\\client.py\u001b[0m in \u001b[0;36m_packet_read\u001b[1;34m(self)\u001b[0m\n\u001b[0;32m   1847\u001b[0m         \u001b[1;31m# All data for this packet is read.\u001b[0m\u001b[1;33m\u001b[0m\u001b[1;33m\u001b[0m\u001b[0m\n\u001b[0;32m   1848\u001b[0m         \u001b[0mself\u001b[0m\u001b[1;33m.\u001b[0m\u001b[0m_in_packet\u001b[0m\u001b[1;33m[\u001b[0m\u001b[1;34m'pos'\u001b[0m\u001b[1;33m]\u001b[0m \u001b[1;33m=\u001b[0m \u001b[1;36m0\u001b[0m\u001b[1;33m\u001b[0m\u001b[0m\n\u001b[1;32m-> 1849\u001b[1;33m         \u001b[0mrc\u001b[0m \u001b[1;33m=\u001b[0m \u001b[0mself\u001b[0m\u001b[1;33m.\u001b[0m\u001b[0m_packet_handle\u001b[0m\u001b[1;33m(\u001b[0m\u001b[1;33m)\u001b[0m\u001b[1;33m\u001b[0m\u001b[0m\n\u001b[0m\u001b[0;32m   1850\u001b[0m \u001b[1;33m\u001b[0m\u001b[0m\n\u001b[0;32m   1851\u001b[0m         \u001b[1;31m# Free data and reset values\u001b[0m\u001b[1;33m\u001b[0m\u001b[1;33m\u001b[0m\u001b[0m\n",
      "\u001b[1;32mC:\\ProgramData\\Anaconda3\\lib\\site-packages\\paho\\mqtt\\client.py\u001b[0m in \u001b[0;36m_packet_handle\u001b[1;34m(self)\u001b[0m\n\u001b[0;32m   2307\u001b[0m             \u001b[1;32mreturn\u001b[0m \u001b[0mself\u001b[0m\u001b[1;33m.\u001b[0m\u001b[0m_handle_pubrec\u001b[0m\u001b[1;33m(\u001b[0m\u001b[1;33m)\u001b[0m\u001b[1;33m\u001b[0m\u001b[0m\n\u001b[0;32m   2308\u001b[0m         \u001b[1;32melif\u001b[0m \u001b[0mcmd\u001b[0m \u001b[1;33m==\u001b[0m \u001b[0mPUBREL\u001b[0m\u001b[1;33m:\u001b[0m\u001b[1;33m\u001b[0m\u001b[0m\n\u001b[1;32m-> 2309\u001b[1;33m             \u001b[1;32mreturn\u001b[0m \u001b[0mself\u001b[0m\u001b[1;33m.\u001b[0m\u001b[0m_handle_pubrel\u001b[0m\u001b[1;33m(\u001b[0m\u001b[1;33m)\u001b[0m\u001b[1;33m\u001b[0m\u001b[0m\n\u001b[0m\u001b[0;32m   2310\u001b[0m         \u001b[1;32melif\u001b[0m \u001b[0mcmd\u001b[0m \u001b[1;33m==\u001b[0m \u001b[0mCONNACK\u001b[0m\u001b[1;33m:\u001b[0m\u001b[1;33m\u001b[0m\u001b[0m\n\u001b[0;32m   2311\u001b[0m             \u001b[1;32mreturn\u001b[0m \u001b[0mself\u001b[0m\u001b[1;33m.\u001b[0m\u001b[0m_handle_connack\u001b[0m\u001b[1;33m(\u001b[0m\u001b[1;33m)\u001b[0m\u001b[1;33m\u001b[0m\u001b[0m\n",
      "\u001b[1;32mC:\\ProgramData\\Anaconda3\\lib\\site-packages\\paho\\mqtt\\client.py\u001b[0m in \u001b[0;36m_handle_pubrel\u001b[1;34m(self)\u001b[0m\n\u001b[0;32m   2527\u001b[0m                     \u001b[1;31m# Only pass the message on if we have removed it from the queue - this\u001b[0m\u001b[1;33m\u001b[0m\u001b[1;33m\u001b[0m\u001b[0m\n\u001b[0;32m   2528\u001b[0m                     \u001b[1;31m# prevents multiple callbacks for the same message.\u001b[0m\u001b[1;33m\u001b[0m\u001b[1;33m\u001b[0m\u001b[0m\n\u001b[1;32m-> 2529\u001b[1;33m                     \u001b[0mself\u001b[0m\u001b[1;33m.\u001b[0m\u001b[0m_handle_on_message\u001b[0m\u001b[1;33m(\u001b[0m\u001b[0mself\u001b[0m\u001b[1;33m.\u001b[0m\u001b[0m_in_messages\u001b[0m\u001b[1;33m[\u001b[0m\u001b[0mi\u001b[0m\u001b[1;33m]\u001b[0m\u001b[1;33m)\u001b[0m\u001b[1;33m\u001b[0m\u001b[0m\n\u001b[0m\u001b[0;32m   2530\u001b[0m                     \u001b[0mself\u001b[0m\u001b[1;33m.\u001b[0m\u001b[0m_in_messages\u001b[0m\u001b[1;33m.\u001b[0m\u001b[0mpop\u001b[0m\u001b[1;33m(\u001b[0m\u001b[0mi\u001b[0m\u001b[1;33m)\u001b[0m\u001b[1;33m\u001b[0m\u001b[0m\n\u001b[0;32m   2531\u001b[0m                     \u001b[0mself\u001b[0m\u001b[1;33m.\u001b[0m\u001b[0m_inflight_messages\u001b[0m \u001b[1;33m-=\u001b[0m \u001b[1;36m1\u001b[0m\u001b[1;33m\u001b[0m\u001b[0m\n",
      "\u001b[1;32mC:\\ProgramData\\Anaconda3\\lib\\site-packages\\paho\\mqtt\\client.py\u001b[0m in \u001b[0;36m_handle_on_message\u001b[1;34m(self, message)\u001b[0m\n\u001b[0;32m   2640\u001b[0m                 \u001b[1;32mfor\u001b[0m \u001b[0mcallback\u001b[0m \u001b[1;32min\u001b[0m \u001b[0mself\u001b[0m\u001b[1;33m.\u001b[0m\u001b[0m_on_message_filtered\u001b[0m\u001b[1;33m.\u001b[0m\u001b[0miter_match\u001b[0m\u001b[1;33m(\u001b[0m\u001b[0mmessage\u001b[0m\u001b[1;33m.\u001b[0m\u001b[0mtopic\u001b[0m\u001b[1;33m)\u001b[0m\u001b[1;33m:\u001b[0m\u001b[1;33m\u001b[0m\u001b[0m\n\u001b[0;32m   2641\u001b[0m                     \u001b[1;32mwith\u001b[0m \u001b[0mself\u001b[0m\u001b[1;33m.\u001b[0m\u001b[0m_in_callback\u001b[0m\u001b[1;33m:\u001b[0m\u001b[1;33m\u001b[0m\u001b[0m\n\u001b[1;32m-> 2642\u001b[1;33m                         \u001b[0mcallback\u001b[0m\u001b[1;33m(\u001b[0m\u001b[0mself\u001b[0m\u001b[1;33m,\u001b[0m \u001b[0mself\u001b[0m\u001b[1;33m.\u001b[0m\u001b[0m_userdata\u001b[0m\u001b[1;33m,\u001b[0m \u001b[0mmessage\u001b[0m\u001b[1;33m)\u001b[0m\u001b[1;33m\u001b[0m\u001b[0m\n\u001b[0m\u001b[0;32m   2643\u001b[0m                     \u001b[0mmatched\u001b[0m \u001b[1;33m=\u001b[0m \u001b[1;32mTrue\u001b[0m\u001b[1;33m\u001b[0m\u001b[0m\n\u001b[0;32m   2644\u001b[0m \u001b[1;33m\u001b[0m\u001b[0m\n",
      "\u001b[1;32m~\\Proyecto 1 Final\\sub.py\u001b[0m in \u001b[0;36mon_data_estante\u001b[1;34m(self, client, userdata, message)\u001b[0m\n\u001b[0;32m     29\u001b[0m         \u001b[0mprint\u001b[0m\u001b[1;33m(\u001b[0m\u001b[0ma\u001b[0m\u001b[1;33m)\u001b[0m\u001b[1;33m\u001b[0m\u001b[0m\n\u001b[0;32m     30\u001b[0m         \u001b[0mprint\u001b[0m\u001b[1;33m(\u001b[0m\u001b[1;34m'---------------------------------------------------------'\u001b[0m\u001b[1;33m)\u001b[0m\u001b[1;33m\u001b[0m\u001b[0m\n\u001b[1;32m---> 31\u001b[1;33m         \u001b[0mself\u001b[0m\u001b[1;33m.\u001b[0m\u001b[0mguardar_datos\u001b[0m\u001b[1;33m(\u001b[0m\u001b[0ma\u001b[0m\u001b[1;33m)\u001b[0m\u001b[1;33m\u001b[0m\u001b[0m\n\u001b[0m\u001b[0;32m     32\u001b[0m         \u001b[1;32mif\u001b[0m \u001b[0mself\u001b[0m\u001b[1;33m.\u001b[0m\u001b[0mcheck_estante\u001b[0m\u001b[1;33m(\u001b[0m\u001b[0ma\u001b[0m\u001b[1;33m)\u001b[0m \u001b[1;33m==\u001b[0m \u001b[1;32mTrue\u001b[0m\u001b[1;33m:\u001b[0m\u001b[1;33m\u001b[0m\u001b[0m\n\u001b[0;32m     33\u001b[0m             \u001b[0mself\u001b[0m\u001b[1;33m.\u001b[0m\u001b[0menviar_alarma_estante\u001b[0m\u001b[1;33m(\u001b[0m\u001b[0ma\u001b[0m\u001b[1;33m)\u001b[0m\u001b[1;33m\u001b[0m\u001b[0m\n",
      "\u001b[1;32m~\\Proyecto 1 Final\\sub.py\u001b[0m in \u001b[0;36mguardar_datos\u001b[1;34m(self, a)\u001b[0m\n\u001b[0;32m     67\u001b[0m         \u001b[1;31m#se guardan los datos en la base de datos\u001b[0m\u001b[1;33m\u001b[0m\u001b[1;33m\u001b[0m\u001b[0m\n\u001b[0;32m     68\u001b[0m         \u001b[0mcur\u001b[0m \u001b[1;33m=\u001b[0m \u001b[0mself\u001b[0m\u001b[1;33m.\u001b[0m\u001b[0mmy_connection\u001b[0m\u001b[1;33m.\u001b[0m\u001b[0mcursor\u001b[0m\u001b[1;33m(\u001b[0m\u001b[1;33m)\u001b[0m\u001b[1;33m\u001b[0m\u001b[0m\n\u001b[1;32m---> 69\u001b[1;33m         \u001b[0mcur\u001b[0m\u001b[1;33m.\u001b[0m\u001b[0mexecute\u001b[0m\u001b[1;33m(\u001b[0m\u001b[1;34m\"SELECT update_estante(%s, %s, %s)\"\u001b[0m\u001b[1;33m,\u001b[0m \u001b[1;33m(\u001b[0m\u001b[0ma\u001b[0m\u001b[1;33m[\u001b[0m\u001b[1;34m\"id_producto\"\u001b[0m\u001b[1;33m]\u001b[0m\u001b[1;33m,\u001b[0m \u001b[0ma\u001b[0m\u001b[1;33m[\u001b[0m\u001b[1;34m\"cantidad\"\u001b[0m\u001b[1;33m]\u001b[0m\u001b[1;33m,\u001b[0m \u001b[0ma\u001b[0m\u001b[1;33m[\u001b[0m\u001b[1;34m\"hora\"\u001b[0m\u001b[1;33m]\u001b[0m\u001b[1;33m)\u001b[0m\u001b[1;33m)\u001b[0m\u001b[1;33m\u001b[0m\u001b[0m\n\u001b[0m\u001b[0;32m     70\u001b[0m         \u001b[0mself\u001b[0m\u001b[1;33m.\u001b[0m\u001b[0mmy_connection\u001b[0m\u001b[1;33m.\u001b[0m\u001b[0mcommit\u001b[0m\u001b[1;33m(\u001b[0m\u001b[1;33m)\u001b[0m\u001b[1;33m\u001b[0m\u001b[0m\n\u001b[0;32m     71\u001b[0m         \u001b[0mprint\u001b[0m\u001b[1;33m(\u001b[0m\u001b[1;34m'datos guardados'\u001b[0m\u001b[1;33m)\u001b[0m\u001b[1;33m\u001b[0m\u001b[0m\n",
      "\u001b[1;31mCardinalityViolation\u001b[0m: more than one row returned by a subquery used as an expression\nCONTEXT:  SQL statement \"INSERT INTO producto_asignado(id_producto, fecha_hora, id_estante, cantidad_inicial, cantidad_restante) \n    VALUES (id_p, fecha_hora, (SELECT id_estante FROM producto_asignado WHERE id_producto = id_p), \n    (SELECT cantidad_inicial FROM producto_asignado WHERE id_producto = id_p LIMIT 1), \n    (SELECT cantidad_inicial-cant FROM producto_asignado WHERE id_producto = id_p LIMIT 1))\"\nPL/pgSQL function update_estante(integer,integer,timestamp without time zone) line 3 at SQL statement\n"
     ]
    }
   ],
   "source": [
    "## se crea un suscriptor y se conecta \n",
    "suscriptor = sub.suscriptor(connection)\n",
    "suscriptor.conectar_suscriptor()"
   ]
  },
  {
   "cell_type": "code",
   "execution_count": null,
   "metadata": {},
   "outputs": [],
   "source": []
  }
 ],
 "metadata": {
  "kernelspec": {
   "display_name": "Python 3",
   "language": "python",
   "name": "python3"
  },
  "language_info": {
   "codemirror_mode": {
    "name": "ipython",
    "version": 3
   },
   "file_extension": ".py",
   "mimetype": "text/x-python",
   "name": "python",
   "nbconvert_exporter": "python",
   "pygments_lexer": "ipython3",
   "version": "3.6.5"
  }
 },
 "nbformat": 4,
 "nbformat_minor": 2
}
